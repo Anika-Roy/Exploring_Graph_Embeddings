{
 "cells": [
  {
   "attachments": {},
   "cell_type": "markdown",
   "metadata": {},
   "source": [
    "# Scalability experiments"
   ]
  },
  {
   "attachments": {},
   "cell_type": "markdown",
   "metadata": {},
   "source": [
    "## Deepwalk"
   ]
  },
  {
   "attachments": {},
   "cell_type": "markdown",
   "metadata": {},
   "source": [
    "### BlogCatalog"
   ]
  },
  {
   "cell_type": "code",
   "execution_count": 1,
   "metadata": {},
   "outputs": [
    {
     "name": "stdout",
     "output_type": "stream",
     "text": [
      "8\n"
     ]
    }
   ],
   "source": [
    "import scipy.io as sio\n",
    "import numpy as np\n",
    "import torch\n",
    "import torch.nn as nn\n",
    "import torch.optim as optim\n",
    "from torch.autograd import Variable\n",
    "import matplotlib.pyplot as plt\n",
    "import networkx as nx\n",
    "from sklearn.manifold import TSNE\n",
    "from gensim.models import Word2Vec\n",
    "import multiprocessing\n",
    "import logging  # Setting up the loggings to monitor gensim\n",
    "logging.basicConfig(format=\"%(levelname)s - %(asctime)s: %(message)s\", level=logging.INFO)\n",
    "\n",
    "cores = multiprocessing.cpu_count() # Count the number of cores in a computer\n",
    "print(cores)"
   ]
  },
  {
   "cell_type": "code",
   "execution_count": 2,
   "metadata": {},
   "outputs": [],
   "source": [
    "# load a .mat file into a numpy array\n",
    "def load_mat(filename):\n",
    "    data = sio.loadmat(filename)\n",
    "    # return data['data']\n",
    "    return data\n",
    "    # return data['network']\n",
    "    # Extract the adjacency matrix"
   ]
  },
  {
   "cell_type": "code",
   "execution_count": 3,
   "metadata": {},
   "outputs": [
    {
     "name": "stdout",
     "output_type": "stream",
     "text": [
      "(10312, 10312)\n",
      "[[0. 0. 0. ... 0. 0. 0.]\n",
      " [0. 0. 0. ... 0. 0. 0.]\n",
      " [0. 0. 0. ... 0. 0. 0.]\n",
      " ...\n",
      " [0. 0. 0. ... 0. 0. 0.]\n",
      " [0. 0. 0. ... 0. 0. 0.]\n",
      " [0. 0. 0. ... 0. 0. 0.]]\n"
     ]
    }
   ],
   "source": [
    "data_np = load_mat('blogcatalog.mat')\n",
    "data_np = data_np['network']\n",
    "\n",
    "# Convert the sparse matrix to a dense adjacency matrix\n",
    "adjmat = data_np.toarray()\n",
    "\n",
    "print(adjmat.shape)\n",
    "print(adjmat)"
   ]
  },
  {
   "attachments": {},
   "cell_type": "markdown",
   "metadata": {},
   "source": [
    "### Obtain Ground Truth Matrix"
   ]
  },
  {
   "cell_type": "code",
   "execution_count": 4,
   "metadata": {},
   "outputs": [
    {
     "name": "stdout",
     "output_type": "stream",
     "text": [
      "(10312, 39)\n",
      "[0. 0. 0. 1. 1. 0. 0. 0. 0. 0. 0. 0. 0. 0. 0. 0. 0. 0. 0. 0. 0. 0. 0. 0.\n",
      " 0. 0. 0. 0. 0. 0. 0. 0. 0. 0. 0. 0. 0. 0. 0.]\n"
     ]
    }
   ],
   "source": [
    "# Also obtain the labels\n",
    "data_np = load_mat('blogcatalog.mat')\n",
    "labels_one_hot = data_np['group'].toarray()\n",
    "\n",
    "print(labels_one_hot.shape)     # (10312, 39)\n",
    "\n",
    "'''Now we know that the labels are one-hot encoded'''\n",
    "# labels = np.argmax(labels_one_hot, axis=1)\n",
    "# print(labels.shape)     # (10312,)\n",
    "# print(labels)\n",
    "\n",
    "label_sample = labels_one_hot[100]      # Thus, each node can have multiple labels (indicated by 2 ones in the array)\n",
    "print(label_sample)\n"
   ]
  },
  {
   "attachments": {},
   "cell_type": "markdown",
   "metadata": {},
   "source": [
    "### Obtain the node embedding using Deepwalk"
   ]
  },
  {
   "cell_type": "code",
   "execution_count": 5,
   "metadata": {},
   "outputs": [],
   "source": [
    "class DeepWalk():\n",
    "        def __init__(\n",
    "                        self, \n",
    "                        graph : \"list[list[int]]\", \n",
    "                        window_size : int, \n",
    "                        embedding_size : int, \n",
    "                        walks_per_vertex : int, \n",
    "                        walk_length : int\n",
    "                ) -> None:\n",
    "                \"\"\"\n",
    "                Initialize the DeepWalk model. This directly from the paper https://arxiv.org/pdf/1403.6652.pdf.\n",
    "\n",
    "                Parameters\n",
    "                ----------\n",
    "                graph : list[list[int]]\n",
    "                        The adjacency list to be embedded. This is a list of lists, where each list is a vertex and its neighbors.\n",
    "                window_size : int\n",
    "                        The window size for the skipgram model.\n",
    "                embedding_size : int\n",
    "                        The size of the embedding. The final output matrix will be of size |V| x embedding_size.\n",
    "                walks_per_vertex : int\n",
    "                        The number of walks to perform per vertex.\n",
    "                walk_length : int\n",
    "                        The length of each walk.\n",
    "\n",
    "                Methods\n",
    "                -------\n",
    "                generate_n_walks()\n",
    "                        Generate n walks from the graph.\n",
    "                train()\n",
    "                        Train the model.\n",
    "                update()\n",
    "                        Feed model new walks.\n",
    "                get_embeddings()\n",
    "                        Return the embeddings.\n",
    "                \"\"\"\n",
    "\n",
    "                # DeepWalk parameters\n",
    "                self.g = graph\n",
    "                self.w = window_size\n",
    "                self.d = embedding_size\n",
    "                self.gamma = walks_per_vertex\n",
    "                self.epochs = self.gamma\n",
    "                self.t = walk_length\n",
    "                self.n = len(graph)\n",
    "\n",
    "        def unbiased_random_walk(\n",
    "                self,\n",
    "                adj_mat : 'list[list[int]]', \n",
    "                walk_len : 'int', \n",
    "                start_node : 'int'\n",
    "        ) -> np.array:\n",
    "                \"\"\"\n",
    "                Returns a random walk of length walk_len from start_node in the graph.\n",
    "\n",
    "                Parameters\n",
    "                ----------\n",
    "                adj_mat : list[list[int]]\n",
    "                        Adjacency matrix of the graph.\n",
    "                walk_len : int\n",
    "                        Length of the random walk.\n",
    "                start_node : int\n",
    "                        Starting node of the random walk.\n",
    "\n",
    "                Returns\n",
    "                -------\n",
    "                np.array\n",
    "                        List of nodes in the random walk.        \n",
    "                \"\"\"\n",
    "                # Array to store the walk\n",
    "                walk = [start_node]\n",
    "\n",
    "                # Make an adjacency matrix to easily \n",
    "                # sample the neighbors of a node.\n",
    "                adj_list = []\n",
    "                for i in range(len(adj_mat)):\n",
    "                        # This line was autocompleted by GH Copilot\n",
    "                        adj_list.append(np.where(adj_mat[i] > 0)[0])\n",
    "\n",
    "                # Keep walking for walk_len epochs\n",
    "                for epochs in range(walk_len):\n",
    "                        # Randomly pick a node from the adj_list[walk[-1]] \n",
    "                        # and append it to the walk\n",
    "                        walk.append(np.random.choice(adj_list[walk[-1]]))\n",
    "\n",
    "                return np.array(walk)\n",
    "\n",
    "        def generate_n_walks(self, num_iters : int) -> 'list[list[str]]':\n",
    "                \"\"\"\n",
    "                Generate a list of num_iters random walks. These will be used to train the model\n",
    "\n",
    "                Parameters\n",
    "                ----------\n",
    "                num_iters : int\n",
    "                        Number of walks to generate.\n",
    "\n",
    "                Returns\n",
    "                -------\n",
    "                np.ndarray\n",
    "                        List of random walks.\n",
    "                \"\"\"\n",
    "\n",
    "                # List to store the walks\n",
    "                walks = []\n",
    "\n",
    "                # For each vertex in the graph\n",
    "                for vertex in range(self.n):\n",
    "                        # Generate gamma walks of length t\n",
    "                        for _ in range(self.gamma):\n",
    "                                walks.append(self.unbiased_random_walk(self.g, self.t, vertex))\n",
    "\n",
    "                walks = [[str(node) for node in walk] for walk in walks]\n",
    "\n",
    "                return walks\n",
    "\n",
    "        def train(self, epochs : int, lr : float) -> None:\n",
    "                \"\"\"\n",
    "                Train the model.\n",
    "\n",
    "                Parameters\n",
    "                ----------\n",
    "                epochs : int\n",
    "                        Number of epochs to train the model for.\n",
    "                lr : float\n",
    "                        Learning rate for the optimizer.                \n",
    "                \"\"\"\n",
    "\n",
    "                # Generate many walks\n",
    "                walks = self.generate_n_walks(self.gamma)\n",
    "\n",
    "                # Initialize the model\n",
    "                self.model = Word2Vec(\n",
    "                        walks,\n",
    "                        hs=1,\n",
    "                        sg=1,\n",
    "                        negative=0,\n",
    "                        alpha=0.05,\n",
    "                        epochs=self.epochs, \n",
    "                        vector_size=self.d,        # embedding dimension\n",
    "                        window=self.w,             # context window size\n",
    "                        min_count=0,\n",
    "                        workers=cores-2\n",
    "                )\n",
    "\n",
    "        def get_embeddings(self) -> np.ndarray:\n",
    "                \"\"\"\n",
    "                Return the embeddings.\n",
    "\n",
    "                Returns\n",
    "                -------\n",
    "                np.ndarray\n",
    "                        Embeddings.\n",
    "                \"\"\"\n",
    "                return [self.model.wv[str(n)] for n in range(self.n)]\n",
    "        \n",
    "        def plot_embeddings(self, num_dimensions : int, gt_labels : 'list[str]') -> None:\n",
    "                \"\"\"\n",
    "                Plot the embeddings.\n",
    "\n",
    "                Parameters\n",
    "                ----------\n",
    "                num_dimensions : int\n",
    "                        Number of dimensions to plot.\n",
    "                gt_labels : list[str]\n",
    "                        List of ground truth labels.\n",
    "                \"\"\"\n",
    "                embeddings = np.array(self.get_embeddings())\n",
    "\n",
    "                # dimensionality reduction to 2 dimensions using t-SNE for visualization\n",
    "                embeddings = TSNE(n_components=2).fit_transform(embeddings)\n",
    "\n",
    "                # Convert gt into numbers\n",
    "                gt_labels = np.array(gt_labels)\n",
    "\n",
    "                # Iterate over all labels and assign them an integer\n",
    "                for i, label in enumerate(np.unique(gt_labels)):\n",
    "                        gt_labels[gt_labels == label] = i\n",
    "                gt_labels = gt_labels.astype(int)\n",
    "\n",
    "                # plot the embeddings\n",
    "                plt.figure(figsize=(6,6))\n",
    "                plt.scatter(embeddings[:,0], embeddings[:,1], c=gt_labels)\n",
    "\n",
    "                # Plot node numbers\n",
    "                for i in range(len(embeddings)):\n",
    "                        plt.annotate(i , (embeddings[i,0], embeddings[i,1]))\n",
    "                        \n",
    "                plt.show()"
   ]
  },
  {
   "cell_type": "code",
   "execution_count": 6,
   "metadata": {},
   "outputs": [],
   "source": [
    "# adjmat, window_size, embedding_size, walks_per_vertex, walk_length\n",
    "dw = DeepWalk(adjmat, 10, 128, 80, 80)"
   ]
  },
  {
   "cell_type": "code",
   "execution_count": 7,
   "metadata": {},
   "outputs": [
    {
     "ename": "KeyboardInterrupt",
     "evalue": "",
     "output_type": "error",
     "traceback": [
      "\u001b[0;31m---------------------------------------------------------------------------\u001b[0m",
      "\u001b[0;31mKeyboardInterrupt\u001b[0m                         Traceback (most recent call last)",
      "Cell \u001b[0;32mIn[7], line 1\u001b[0m\n\u001b[0;32m----> 1\u001b[0m dw\u001b[39m.\u001b[39;49mtrain(\u001b[39m20\u001b[39;49m, \u001b[39m0.05\u001b[39;49m)\n",
      "Cell \u001b[0;32mIn[5], line 129\u001b[0m, in \u001b[0;36mDeepWalk.train\u001b[0;34m(self, epochs, lr)\u001b[0m\n\u001b[1;32m    117\u001b[0m \u001b[39m\u001b[39m\u001b[39m\"\"\"\u001b[39;00m\n\u001b[1;32m    118\u001b[0m \u001b[39mTrain the model.\u001b[39;00m\n\u001b[1;32m    119\u001b[0m \n\u001b[0;32m   (...)\u001b[0m\n\u001b[1;32m    125\u001b[0m \u001b[39m        Learning rate for the optimizer.                \u001b[39;00m\n\u001b[1;32m    126\u001b[0m \u001b[39m\"\"\"\u001b[39;00m\n\u001b[1;32m    128\u001b[0m \u001b[39m# Generate many walks\u001b[39;00m\n\u001b[0;32m--> 129\u001b[0m walks \u001b[39m=\u001b[39m \u001b[39mself\u001b[39;49m\u001b[39m.\u001b[39;49mgenerate_n_walks(\u001b[39mself\u001b[39;49m\u001b[39m.\u001b[39;49mgamma)\n\u001b[1;32m    131\u001b[0m \u001b[39m# Initialize the model\u001b[39;00m\n\u001b[1;32m    132\u001b[0m \u001b[39mself\u001b[39m\u001b[39m.\u001b[39mmodel \u001b[39m=\u001b[39m Word2Vec(\n\u001b[1;32m    133\u001b[0m         walks,\n\u001b[1;32m    134\u001b[0m         hs\u001b[39m=\u001b[39m\u001b[39m1\u001b[39m,\n\u001b[0;32m   (...)\u001b[0m\n\u001b[1;32m    142\u001b[0m         workers\u001b[39m=\u001b[39mcores\u001b[39m-\u001b[39m\u001b[39m2\u001b[39m\n\u001b[1;32m    143\u001b[0m )\n",
      "Cell \u001b[0;32mIn[5], line 110\u001b[0m, in \u001b[0;36mDeepWalk.generate_n_walks\u001b[0;34m(self, num_iters)\u001b[0m\n\u001b[1;32m    107\u001b[0m \u001b[39mfor\u001b[39;00m vertex \u001b[39min\u001b[39;00m \u001b[39mrange\u001b[39m(\u001b[39mself\u001b[39m\u001b[39m.\u001b[39mn):\n\u001b[1;32m    108\u001b[0m         \u001b[39m# Generate gamma walks of length t\u001b[39;00m\n\u001b[1;32m    109\u001b[0m         \u001b[39mfor\u001b[39;00m _ \u001b[39min\u001b[39;00m \u001b[39mrange\u001b[39m(\u001b[39mself\u001b[39m\u001b[39m.\u001b[39mgamma):\n\u001b[0;32m--> 110\u001b[0m                 walks\u001b[39m.\u001b[39mappend(\u001b[39mself\u001b[39;49m\u001b[39m.\u001b[39;49munbiased_random_walk(\u001b[39mself\u001b[39;49m\u001b[39m.\u001b[39;49mg, \u001b[39mself\u001b[39;49m\u001b[39m.\u001b[39;49mt, vertex))\n\u001b[1;32m    112\u001b[0m walks \u001b[39m=\u001b[39m [[\u001b[39mstr\u001b[39m(node) \u001b[39mfor\u001b[39;00m node \u001b[39min\u001b[39;00m walk] \u001b[39mfor\u001b[39;00m walk \u001b[39min\u001b[39;00m walks]\n\u001b[1;32m    114\u001b[0m \u001b[39mreturn\u001b[39;00m walks\n",
      "Cell \u001b[0;32mIn[5], line 78\u001b[0m, in \u001b[0;36mDeepWalk.unbiased_random_walk\u001b[0;34m(self, adj_mat, walk_len, start_node)\u001b[0m\n\u001b[1;32m     75\u001b[0m adj_list \u001b[39m=\u001b[39m []\n\u001b[1;32m     76\u001b[0m \u001b[39mfor\u001b[39;00m i \u001b[39min\u001b[39;00m \u001b[39mrange\u001b[39m(\u001b[39mlen\u001b[39m(adj_mat)):\n\u001b[1;32m     77\u001b[0m         \u001b[39m# This line was autocompleted by GH Copilot\u001b[39;00m\n\u001b[0;32m---> 78\u001b[0m         adj_list\u001b[39m.\u001b[39mappend(np\u001b[39m.\u001b[39;49mwhere(adj_mat[i] \u001b[39m>\u001b[39;49m \u001b[39m0\u001b[39;49m)[\u001b[39m0\u001b[39m])\n\u001b[1;32m     80\u001b[0m \u001b[39m# Keep walking for walk_len epochs\u001b[39;00m\n\u001b[1;32m     81\u001b[0m \u001b[39mfor\u001b[39;00m epochs \u001b[39min\u001b[39;00m \u001b[39mrange\u001b[39m(walk_len):\n\u001b[1;32m     82\u001b[0m         \u001b[39m# Randomly pick a node from the adj_list[walk[-1]] \u001b[39;00m\n\u001b[1;32m     83\u001b[0m         \u001b[39m# and append it to the walk\u001b[39;00m\n",
      "File \u001b[0;32m~/miniconda3/envs/ML/lib/python3.11/site-packages/numpy/core/multiarray.py:346\u001b[0m, in \u001b[0;36mwhere\u001b[0;34m(condition, x, y)\u001b[0m\n\u001b[1;32m    256\u001b[0m \u001b[39m    \u001b[39m\u001b[39m\"\"\"\u001b[39;00m\n\u001b[1;32m    257\u001b[0m \u001b[39m    inner(a, b, /)\u001b[39;00m\n\u001b[1;32m    258\u001b[0m \n\u001b[0;32m   (...)\u001b[0m\n\u001b[1;32m    341\u001b[0m \n\u001b[1;32m    342\u001b[0m \u001b[39m    \"\"\"\u001b[39;00m\n\u001b[1;32m    343\u001b[0m     \u001b[39mreturn\u001b[39;00m (a, b)\n\u001b[0;32m--> 346\u001b[0m \u001b[39m@array_function_from_c_func_and_dispatcher\u001b[39m(_multiarray_umath\u001b[39m.\u001b[39mwhere)\n\u001b[1;32m    347\u001b[0m \u001b[39mdef\u001b[39;00m \u001b[39mwhere\u001b[39m(condition, x\u001b[39m=\u001b[39m\u001b[39mNone\u001b[39;00m, y\u001b[39m=\u001b[39m\u001b[39mNone\u001b[39;00m):\n\u001b[1;32m    348\u001b[0m \u001b[39m    \u001b[39m\u001b[39m\"\"\"\u001b[39;00m\n\u001b[1;32m    349\u001b[0m \u001b[39m    where(condition, [x, y], /)\u001b[39;00m\n\u001b[1;32m    350\u001b[0m \n\u001b[0;32m   (...)\u001b[0m\n\u001b[1;32m    416\u001b[0m \u001b[39m           [ 0,  3, -1]])\u001b[39;00m\n\u001b[1;32m    417\u001b[0m \u001b[39m    \"\"\"\u001b[39;00m\n\u001b[1;32m    418\u001b[0m     \u001b[39mreturn\u001b[39;00m (condition, x, y)\n",
      "\u001b[0;31mKeyboardInterrupt\u001b[0m: "
     ]
    }
   ],
   "source": [
    "dw.train(20, 0.05)"
   ]
  },
  {
   "cell_type": "code",
   "execution_count": null,
   "metadata": {},
   "outputs": [],
   "source": [
    "# getting the embeddings from the model\n",
    "embeddings = np.array(dw.get_embeddings())\n",
    "print(embeddings.shape)"
   ]
  },
  {
   "attachments": {},
   "cell_type": "markdown",
   "metadata": {},
   "source": [
    "### Training a multi-label classifier"
   ]
  },
  {
   "cell_type": "code",
   "execution_count": null,
   "metadata": {},
   "outputs": [],
   "source": [
    "from sklearn.preprocessing import MultiLabelBinarizer\n",
    "mlb = MultiLabelBinarizer(range(label_sample.shape[1]))"
   ]
  },
  {
   "cell_type": "code",
   "execution_count": null,
   "metadata": {},
   "outputs": [],
   "source": [
    "# Train a one-vs-rest logistic regression classifier\n",
    "from sklearn.linear_model import LogisticRegression\n",
    "from sklearn.multiclass import OneVsRestClassifier\n",
    "from sklearn.metrics import f1_score, accuracy_score\n",
    "from sklearn.model_selection import train_test_split\n",
    "\n",
    "# Split the data into train and test sets\n",
    "X_train, X_test, y_train, y_test = train_test_split(embeddings, labels_one_hot, test_size=0.2, random_state=42)\n",
    "\n",
    "# Train the classifier\n",
    "clf = OneVsRestClassifier(LogisticRegression())\n",
    "clf.fit(X_train, y_train)\n",
    "\n",
    "# Predict the labels of the test set\n",
    "y_pred = clf.predict(X_test)\n",
    "\n",
    "# Calculate the accuracy using hamming loss and F1-score\n",
    "print(\"F1-score: \", f1_score(mlb.fit_transform(y_test),mlb.fit_transform(y_pred), average=\"micro\"))"
   ]
  }
 ],
 "metadata": {
  "kernelspec": {
   "display_name": "ML",
   "language": "python",
   "name": "python3"
  },
  "language_info": {
   "codemirror_mode": {
    "name": "ipython",
    "version": 3
   },
   "file_extension": ".py",
   "mimetype": "text/x-python",
   "name": "python",
   "nbconvert_exporter": "python",
   "pygments_lexer": "ipython3",
   "version": "3.11.4"
  },
  "orig_nbformat": 4
 },
 "nbformat": 4,
 "nbformat_minor": 2
}
