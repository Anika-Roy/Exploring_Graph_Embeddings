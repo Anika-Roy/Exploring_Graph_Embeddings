{
 "cells": [
  {
   "cell_type": "code",
   "execution_count": 16,
   "metadata": {},
   "outputs": [
    {
     "name": "stdout",
     "output_type": "stream",
     "text": [
      "8\n"
     ]
    }
   ],
   "source": [
    "from gensim.models import Word2Vec\n",
    "import multiprocessing\n",
    "import logging  # Setting up the loggings to monitor gensim\n",
    "logging.basicConfig(format=\"%(levelname)s - %(asctime)s: %(message)s\", datefmt= '%H:%M:%S', level=logging.INFO)\n",
    "\n",
    "cores = multiprocessing.cpu_count() # Count the number of cores in a computer\n",
    "print(cores)"
   ]
  },
  {
   "cell_type": "code",
   "execution_count": 17,
   "metadata": {},
   "outputs": [
    {
     "name": "stderr",
     "output_type": "stream",
     "text": [
      "INFO - 17:58:56: Word2Vec lifecycle event {'params': 'Word2Vec<vocab=0, vector_size=5, alpha=0.03>', 'datetime': '2023-10-24T17:58:56.093641', 'gensim': '4.3.2', 'python': '3.11.4 (main, Jul  5 2023, 13:45:01) [GCC 11.2.0]', 'platform': 'Linux-5.15.0-87-generic-x86_64-with-glibc2.31', 'event': 'created'}\n"
     ]
    }
   ],
   "source": [
    "w2v_model = Word2Vec(min_count=0,\n",
    "                     window=2,      # context window size\n",
    "                     vector_size=5,        # embedding dimension\n",
    "                    #  sample=6e-5,   # threshold for configuring which higher-frequency words are randomly downsampled (apparently highly important)\n",
    "                     alpha=0.03, \n",
    "                    #  min_alpha=0.0007, \n",
    "                     sg=1,          # 1 for skip-gram; otherwise CBOW\n",
    "                     negative=5,    # for negative sampling\n",
    "                     workers=cores-1)"
   ]
  },
  {
   "cell_type": "code",
   "execution_count": 18,
   "metadata": {},
   "outputs": [
    {
     "name": "stdout",
     "output_type": "stream",
     "text": [
      "[['once', 'upon', 'a', 'time', 'two', 'little', 'fairies', 'from', 'magic', 'land', 'ventured', 'out', 'into', 'the', 'wide', 'world'], ['his', 'friend', 'lily-bell', 'was', 'completely', 'different', 'from', 'him', 'for', 'she', 'was', 'so', 'kind', 'and', 'friendly', 'that', 'everyone', 'loved', 'her'], ['“i’m', 'tired', 'and', 'thirsty,”', 'said', 'thistledown'], ['“dear', 'thistledown', 'be', 'kind', 'to', 'these', 'flowers', 'and', 'don’t', 'tease', 'them'], ['thistledown', 'laughed', 'and', 'then', 'he', 'took', 'the', 'honey', 'from', 'the', 'violets', 'and', 'shook', 'the', 'purple', 'bells', 'vigorously', 'to', 'get', 'all', 'their', 'dew', 'for', 'his', 'bath'], ['finally', 'he', 'came', 'to', 'a', 'very', 'lovely', 'rose', 'bush', 'with', 'one', 'rose', 'in', 'full', 'bloom', 'and', 'a', 'bud'], ['“little', 'rosebud', 'why', 'do', 'you', 'grow', 'so', 'slowly', 'you', 'are', 'now', 'too', 'old', 'to', 'stay', 'rocking', 'in', 'your', 'green', 'cradle'], ['“no', 'my', 'bud', 'is', 'not', 'strong', 'enough', 'to', 'be', 'exposed', 'to', 'sun', 'and', 'air,”', 'replied', 'the', 'rose', 'mother', 'bending', 'over', 'her', 'baby', 'while', 'all', 'her', 'red', 'petals', 'trembled', 'with', 'fear', 'because', 'the', 'wind', 'had', 'told', 'her', 'how', 'much', 'harm', 'this', 'naughty', 'elf', 'had', 'already', 'done', 'in', 'the', 'garden'], ['“foolish', 'little', 'flower', 'waiting', 'so', 'long,”', 'cried', 'thistledown', 'and', 'he', 'pulled', 'the', 'bud', 'open', 'so', 'roughly', 'that', 'all', 'the', 'petals', 'broke', 'and', 'fell', 'to', 'the', 'ground'], ['“it', 'was', 'my', 'first', 'and', 'only', 'bud', 'and', 'i', 'was', 'so', 'happy', 'and', 'proud', 'of', 'it'], ['thistledown', 'was', 'ashamed', 'but', 'he', 'didn’t', 'want', 'to', 'say', 'he', 'was', 'sorry', 'and', 'flew', 'away', 'until', 'the', 'clouds', 'gathered', 'and', 'a', 'heavy', 'rainstorm', 'came'], ['“go', 'away', 'nasty', 'elf', 'we', 'don’t', 'know', 'you', 'and', 'we', 'don’t', 'want', 'to', 'let', 'you', 'in,”', 'they', 'shouted'], ['“so', 'what', 'the', 'daisies', 'will', 'gladly', 'give', 'shelter', 'to', 'such', 'a', 'handsome', 'elf', 'as', 'i,”', 'said', 'thistledown', 'as', 'he', 'flew', 'down', 'to', 'the', 'little', 'flowers', 'in', 'the', 'grass'], ['but', 'all', 'the', 'little', 'leaves', 'were', 'tightly', 'closed', 'and', 'he', 'knocked', 'in', 'vain', 'for', 'even', 'the', 'daisies', 'had', 'heard', 'of', 'his', 'tricks', 'and', 'didn’t', 'want', 'to', 'take', 'any', 'chances'], ['“no', 'one', 'wants', 'to', 'be', 'my', 'friend', 'and', 'now', 'i', 'will', 'suffer', 'in', 'the', 'cold'], ['“i', 'don’t', 'have', 'a', 'bud', 'to', 'protect', 'anymore', 'so', 'you', 'can', 'come', 'in,”', 'said', 'a', 'soft', 'voice', 'above', 'him', 'and', 'when', 'he', 'looked', 'up', 'thistle', 'saw', 'that', 'he', 'was', 'under', 'the', 'rose', 'bush'], ['although', 'sad', 'and', 'ashamed', 'the', 'elf', 'was', 'happy', 'to', 'take', 'advantage', 'of', 'the', 'warm', 'shelter', 'among', 'the', 'red', 'petals', 'and', 'the', 'rose', 'mother', 'held', 'him', 'close', 'to', 'her', 'heart', 'where', 'no', 'rain', 'or', 'chill', 'wind', 'could', 'reach', 'him'], ['soon', 'the', 'sun', 'started', 'shining', 'again', 'and', 'lily-bell', 'went', 'to', 'look', 'for', 'her', 'friend', 'but', 'he', 'was', 'ashamed', 'to', 'see', 'her', 'and', 'slipped', 'away'], ['when', 'the', 'flowers', 'told', 'lily-bell', 'about', 'all', 'the', 'mischief', 'she', 'was', 'very', 'sad', 'and', 'tried', 'to', 'comfort', 'them'], ['meanwhile', 'thistle', 'was', 'invited', 'to', 'eat', 'in', 'a', 'bee', 'hive', 'by', 'a', 'friendly', 'bee', 'one', 'day', 'and', 'the', 'elf', 'loved', 'it', 'in', 'that', 'beautiful', 'little', 'house', 'with', 'floors', 'of', 'white', 'wax', 'walls', 'of', 'golden', 'honeycomb', 'and', 'the', 'air', 'full', 'of', 'flower', 'scent'], ['“do', 'you', 'want', 'to', 'stay', 'here', 'and', 'work', 'with', 'us', 'here', 'no', 'one', 'is', 'lazy', 'and', 'this', 'is', 'a', 'much', 'happier', 'life', 'than', 'playing', 'all', 'day,”', 'said', 'gonzer', 'the', 'friendly', 'bee'], ['“i', 'hate', 'working,”', 'answered', 'lazy', 'thistle', 'and', 'didn’t', 'want', 'to', 'do', 'anything'], ['then', 'they', 'said', 'he', 'should', 'leave'], ['“come', 'let’s', 'celebrate', 'and', 'have', 'fun'], ['then', 'he', 'brought', 'those', 'lazy', 'bees', 'as', 'a', 'band', 'of', 'thieves', 'into', 'the', 'hive'], ['“what', 'fun', 'we', 'had,”', 'said', 'thistle', 'as', 'he', 'went', 'to', 'hide', 'in', 'a', 'big', 'forest', 'where', 'he', 'thought', 'the', 'angry', 'bees', 'wouldn’t', 'find', 'him'], ['here', 'he', 'made', 'friends', 'with', 'a', 'cheerful', 'fly', 'and', 'they', 'had', 'a', 'lot', 'of', 'fun'], ['“i’m', 'not', 'afraid', 'of', 'anything,”', 'answered', 'thistle'], ['but', 'in', 'reality', 'he', 'was', 'very', 'afraid', 'and', 'as', 'soon', 'as', 'the', 'fly', 'went', 'to', 'sleep', 'that', 'night', 'he', 'called', 'a', 'big', 'ugly', 'spider', 'and', 'asked', 'the', 'spider', 'to', 'wrap', 'the', 'fly', 'up', 'completely', 'so', 'that', 'he', 'couldn’t', 'move', 'a', 'leg', 'or', 'wing'], ['but', 'the', 'forest', 'spirits', 'know', 'everything', 'that', 'happens', 'in', 'their', 'land'], ['“you', 'do', 'so', 'much', 'harm', 'that', 'we', 'will', 'hold', 'you', 'captive', 'until', 'you', 'repent', 'because', 'in', 'this', 'beautiful', 'world', 'no', 'one', 'can', 'live', 'unless', 'they', 'are', 'kind', 'and', 'good'], ['so', 'they', 'locked', 'him', 'in', 'a', 'large', 'crevice', 'in', 'the', 'rock', 'where', 'there', 'was', 'no', 'light', 'except', 'for', 'one', 'small', 'ray', 'and', 'there', 'sat', 'poor', 'thistle', 'lonely', 'and', 'longing', 'to', 'be', 'free', 'again', 'sighing', 'over', 'all', 'the', 'pleasant', 'things', 'he', 'had', 'lost'], ['all', 'that', 'time', 'lily-bell', 'searched', 'for', 'him', 'and', 'found', 'his', 'trail', 'through', 'the', 'mischief', 'he', 'had', 'done'], ['“where', 'are', 'you?”', 'she', 'cried', 'and', 'flew', 'up', 'among', 'the', 'flowers', 'for', 'she', 'could', 'see', 'no', 'opening', 'in', 'the', 'rock', 'and', 'could', 'not', 'understand', 'where', 'the', 'voice', 'came', 'from'], ['then', 'a', 'pair', 'of', 'arms', 'stretched', 'out', 'through', 'the', 'narrow', 'opening', 'and', 'all', 'the', 'little', 'flowers', 'danced', 'with', 'joy', 'at', 'finding', 'thistle'], ['thistle', 'waited', 'a', 'long', 'time', 'for', 'her', 'return', 'but', 'she', 'did', 'not', 'come', 'back', 'and', 'he', 'cried', 'so', 'terribly', 'hard', 'that', 'the', 'forest', 'spirits', 'came', 'and', 'took', 'him', 'out'], ['“everything', 'is', 'all', 'right', 'with', 'lily-bell', 'but', 'she', 'is', 'in', 'an', 'enchanted', 'sleep', 'from', 'which', 'she', 'will', 'not', 'awaken', 'until', 'you', 'bring', 'us', 'the', 'following', 'things:', 'a', 'golden', 'magic', 'wand', 'from', 'the', 'earth', 'nymphs', 'a', 'sunshine', 'cloak', 'from', 'the', 'air', 'spirits', 'and', 'a', 'diamond', 'crown', 'from', 'the', 'water', 'nymphs'], ['then', 'the', 'forest', 'spirits', 'brought', 'him', 'to', 'a', 'green', 'tent', 'and', 'inside', 'it', 'stretched', 'out', 'on', 'a', 'bed', 'of', 'moss', 'was', 'lily-bell', 'in', 'a', 'deep', 'sleep', 'just', 'like', 'sleeping', 'beauty'], ['“i’ll', 'do', 'it!”', 'said', 'thistledown', 'and', 'he', 'flew', 'away'], ['“the', 'flowers', 'will', 'probably', 'be', 'best', 'acquainted', 'with', 'the', 'earth', 'spirits', 'i’ll', 'ask', 'them,”', 'he', 'thought', 'and', 'began', 'his', 'investigation', 'at', 'every', 'clover', 'or', 'buttercup', 'he', 'saw', 'at', 'every', 'wild', 'violet', 'or', 'dandelion', 'he', 'came', 'across'], ['“i', 'will', 'go', 'to', 'the', 'rose', 'i', 'believe', 'she', 'is', 'my', 'friend', 'for', 'she', 'has', 'forgiven', 'me', 'and', 'sheltered', 'me', 'when', 'the', 'others', 'left', 'me', 'in', 'the', 'cold,”', 'said', 'thistledown', 'a', 'little', 'afraid', 'to', 'ask', 'a', 'flower', 'he', 'had', 'hurt', 'so', 'much', 'for', 'a', 'favor'], ['“i', 'will', 'trust', 'and', 'help', 'you', 'because', 'i', 'love', 'lily-bell,”', 'she', 'said'], ['“ah!”', 'he', 'thought', 'to', 'himself', '“if', 'i', 'had', 'only', 'been', 'kind', 'like', 'lily-bell', 'then', 'everyone', 'would', 'love', 'me', 'and', 'trust', 'me', 'and', 'be', 'happy', 'to', 'help', 'me'], ['at', 'night', 'when', 'the', 'flowers', 'slept', 'he', 'watered', 'them'], ['the', 'rose', 'was', 'always', 'kind', 'to', 'him', 'and', 'when', 'the', 'other', 'plants', 'were', 'curious', 'who', 'was', 'doing', 'all', 'these', 'kindnesses', 'the', 'rose', 'said:', '“that’s', 'thistle'], ['then', 'they', 'answered', '“we', 'will', 'love', 'him', 'and', 'help', 'him', 'for', 'lily-bell’s', 'sake'], ['they', 'called', 'him', 'over', 'and', 'said', 'they', 'wanted', 'to', 'be', 'friends', 'with', 'him', 'and', 'he', 'was', 'overjoyed', 'that', 'they', 'had', 'forgiven', 'him'], ['“here', 'they', 'are', 'now', 'you', 'can', 'go', 'on', 'alone', 'have', 'a', 'safe', 'journey!”', 'said', 'donsrug', 'as', 'he', 'crawled', 'away', 'because', 'he', 'loved', 'the', 'darkness', 'the', 'most'], ['thistle', 'arrived', 'at', 'a', 'great', 'hall', 'made', 'of', 'jewels', 'shining', 'like', 'the', 'sun', 'and', 'a', 'multitude', 'of', 'nymphs', 'danced', 'here', 'like', 'fireflies', 'to', 'the', 'music', 'of', 'silver', 'bells'], ['one', 'of', 'the', 'nymphs', 'came', 'to', 'him', 'and', 'asked', 'why', 'he', 'was', 'there', 'and', 'when', 'he', 'told', 'her', 'shimmer', 'said:', '“you', 'must', 'work', 'for', 'us', 'if', 'you', 'want', 'to', 'earn', 'the', 'golden', 'wand'], ['“what', 'must', 'i', 'do?”', 'asked', 'thistle'], ['“all', 'sorts', 'of', 'things,”', 'answered', 'shimmer'], ['“yes', 'for', 'lily-bell', 'i', 'can', 'do', 'anything,”', 'said', 'thistle', 'bravely'], ['but', 'thistle', 'only', 'wanted', 'the', 'wand', 'and', 'he', 'hurried', 'back', 'up', 'into', 'the', 'sunshine', 'as', 'fast', 'as', 'he', 'could', 'climb', 'eager', 'to', 'show', 'the', 'forest', 'spirits', 'how', 'well', 'he', 'had', 'kept', 'his', 'word'], ['no', 'one', 'seemed', 'to', 'know', 'where', 'they', 'lived', 'and', 'thistle', 'became', 'desperate'], ['“i', 'dare', 'not', 'go', 'to', 'the', 'beehive,”', 'he', 'said', '“because', 'the', 'bees', 'would', 'kill', 'me', 'as', 'i', 'have', 'done', 'them', 'so', 'much', 'harm'], ['so', 'he', 'went', 'to', 'a', 'clover', 'field', 'and', 'worked', 'hard', 'until', 'he', 'had', 'gathered', 'two', 'jars', 'of', 'sweet', 'honey'], ['“it', 'must', 'be', 'from', 'a', 'good', 'nymph', 'who', 'knows', 'how', 'hard', 'we’ve', 'had', 'it', 'this', 'summer', 'and', 'who', 'wants', 'to', 'help', 'us', 'fill', 'our', 'cells', 'before', 'the', 'frost', 'comes'], ['“ha', 'ha', 'i', 'think', 'we’ll', 'become', 'friends', 'if', 'i', 'keep', 'this', 'up,”', 'laughed', 'thistle', 'and', 'had', 'a', 'lot', 'of', 'fun', 'in', 'his', 'hiding', 'place', 'among', 'the', 'leaves'], ['after', 'that', 'he', 'not', 'only', 'left', 'honey', 'but', 'also', 'flowering', 'herbs', 'berries', 'and', 'bags', 'full', 'of', 'flower', 'pollen', 'for', 'their', 'bread'], ['he', 'helped', 'the', 'ants', 'carry', 'their', 'heavy', 'loads', 'helped', 'the', 'field', 'mice', 'with', 'their', 'harvest', 'and', 'chased', 'the', 'flies', 'away', 'from', 'the', 'peacefully', 'grazing', 'cows', 'in', 'the', 'meadows'], ['“look', 'there’s', 'that', 'naughty', 'thistle!”', 'the', 'bees', 'cried', 'and', 'they', 'were', 'about', 'to', 'sting', 'him', 'to', 'death'], ['“no!”', 'cried', 'an', 'old', 'cricket', 'who', 'had', 'kept', 'the', 'secret', 'until', 'now'], ['the', 'bees', 'could', 'hardly', 'believe', 'it', 'at', 'first', 'but', 'they', 'were', 'willing', 'to', 'make', 'friends'], ['they', 'were', 'busy', 'flying', 'back', 'and', 'forth', 'like', 'specks', 'of', 'dust', 'in', 'a', 'sunbeam'], ['thistle', 'asked', 'for', 'the', 'mantle', 'of', 'sunshine'], ['“first', 'you', 'must', 'help', 'us,”', 'the', 'weavers', 'replied'], ['thistle', 'worked', 'hard'], ['it', 'was', 'a', 'busy', 'and', 'happy', 'life', 'and', 'he', 'enjoyed', 'it'], ['“now', 'one', 'more', 'test', 'then', 'she', 'will', 'awaken,”', 'said', 'the', 'forest', 'spirits', 'very', 'pleased'], ['“i’m', 'sure', 'i’ll', 'find', 'this', 'one', 'very', 'unpleasant', 'because', 'i’m', 'not', 'a', 'friend', 'of', 'water', 'but', 'i’ll', 'do', 'my', 'best,”', 'thistle', 'replied', 'and', 'floated', 'away', 'to', 'the', 'forest', 'where', 'he', 'followed', 'a', 'stream', 'until', 'he', 'came', 'to', 'the', 'little', 'lake', 'where', 'he', 'used', 'to', 'play', 'with', 'the', 'fly'], ['“i', 'wanted', 'to', 'jump', 'but', 'a', 'mean', 'child', 'stepped', 'on', 'me', 'and', 'now', 'i’m', 'here', 'between', 'the', 'stones'], ['thistle', 'didn’t', 'really', 'want', 'to', 'pick', 'up', 'the', 'clammy', 'creature', 'but', 'when', 'he', 'remembered', 'how', 'unkind', 'he', 'had', 'been', 'to', 'the', 'fly', 'before', 'he', 'put', 'the', 'poor', 'little', 'frog', 'on', 'a', 'bed', 'of', 'oak', 'leaves', 'and', 'tended', 'to', 'its', 'injured', 'leg'], ['then', 'they', 'floated', 'around', 'all', 'day', 'and', 'hop', 'the', 'frog', 'got', 'better', 'so', 'quickly', 'that', 'he', 'could', 'dive', 'off', 'and', 'row', 'a', 'bit', 'with', 'his', 'forepaws', 'or', 'float', 'and', 'use', 'his', 'healthy', 'leg', 'as', 'a', 'rudder'], ['but', 'then', 'a', 'fish', 'popped', 'its', 'head', 'up', 'and', 'said', '“i', 'know', 'where', 'the', 'water', 'spirits', 'live', 'and', 'to', 'help', 'our', 'dear', 'lily-bell', 'i', 'will', 'show', 'you', 'where', 'that', 'is'], ['thistle', 'followed', 'the', 'little', 'fish', 'deeper', 'into', 'the', 'lake', 'until', 'they', 'reached', 'a', 'strange', 'palace', 'of', 'red', 'coral', 'on', 'the', 'sea', 'floor'], ['then', 'little', 'pearl', 'the', 'sweetest', 'of', 'the', 'nymphs', 'said:', '“you', 'must', 'help', 'the', 'coral', 'workers', 'until', 'the', 'branches', 'of', 'their', 'tree', 'reach', 'the', 'air', 'for', 'we', 'need', 'a', 'new', 'island'], ['thistle', 'hurried', 'to', 'the', 'coral', 'tree', 'where', 'hundreds', 'of', 'little', 'creatures', 'built', 'one', 'cell', 'upon', 'another', 'until', 'the', 'white', 'tree', 'spread', 'wide', 'and', 'high', 'in', 'the', 'blue', 'water'], ['it', 'was', 'indeed', 'tedious', 'work', 'and', 'the', 'poor', 'gnome', 'was', 'afraid', 'of', 'the', 'strange', 'monsters', 'that', 'swam', 'around', 'him', 'staring', 'at', 'him', 'with', 'their', 'big', 'eyes', 'or', 'gaping', 'at', 'him', 'with', 'their', 'big', 'mouths', 'as', 'if', 'they', 'wanted', 'to', 'devour', 'him'], ['thistle', 'longed', 'for', 'light', 'and', 'air', 'but', 'he', 'remained', 'patient', 'and', 'worked', 'diligently'], ['“you', 'may', 'leave'], ['lily-bell', 'lay', 'with', 'the', 'mantle', 'of', 'sunshine', 'around', 'her', 'and', 'the', 'golden', 'wand', 'in', 'her', 'hand', 'waiting', 'for', 'the', 'crown', 'and', 'the', 'kiss', 'that', 'would', 'awaken', 'her', 'from', 'her', 'deep', 'sleep'], ['“you', 'may', 'have', 'the', 'crown', 'for', 'you', 'have', 'worked', 'so', 'hard', 'to', 'get', 'it', 'and', 'i', 'will', 'wear', 'a', 'flower', 'wreath,”', 'said', 'lily-bell', 'so', 'happy', 'and', 'proud', 'that', 'she', 'wanted', 'nothing', 'else'], ['“keep', 'your', 'crown', 'dear', 'lily-bell', 'for', 'here', 'are', 'friends', 'who', 'have', 'come', 'to', 'bring', 'thistle', 'his', 'reward,”', 'said', 'the', 'forest', 'nymphs', 'pointing', 'to', 'a', 'group', 'of', 'earth', 'spirits', 'who', 'were', 'crawling', 'between', 'the', 'mossy', 'roots', 'of', 'an', 'old', 'tree', 'with', 'a', 'crown'], ['shimmer', 'brought', 'a', 'golden', 'wand', 'and', 'the', 'air', 'spirits', 'floated', 'in', 'with', 'a', 'mantle', 'of', 'sunshine', 'as', 'their', 'gift']]\n"
     ]
    }
   ],
   "source": [
    "# Step 1: Load the text corpus\n",
    "sentences = []\n",
    "with open('file.txt', 'r') as f:\n",
    "    for line in f:\n",
    "        sentences.append(line.strip().split('.'))\n",
    "\n",
    "# Step 2: Preprocess the text corpus\n",
    "corpus=[]\n",
    "# Iterate through the list of sentences, break them into lists of words and remove the empty strings\n",
    "for i in range(len(sentences)):\n",
    "    sentences[i] = sentences[i][0].split(' ')\n",
    "\n",
    "    # strip the words of any special characters\n",
    "    sentences[i] = [word.strip(',?;\"!').lower() for word in sentences[i]]\n",
    "\n",
    "    sentences[i] = list(filter(None, sentences[i]))\n",
    "    if(len(sentences[i])>0):\n",
    "        corpus.append(sentences[i])\n",
    "\n",
    "print(corpus)"
   ]
  },
  {
   "cell_type": "code",
   "execution_count": 19,
   "metadata": {},
   "outputs": [
    {
     "name": "stderr",
     "output_type": "stream",
     "text": [
      "INFO - 17:58:56: collecting all words and their counts\n",
      "INFO - 17:58:56: PROGRESS: at sentence #0, processed 0 words, keeping 0 word types\n",
      "INFO - 17:58:56: collected 645 word types from a corpus of 1924 raw words and 85 sentences\n",
      "INFO - 17:58:56: Creating a fresh vocabulary\n",
      "INFO - 17:58:56: Word2Vec lifecycle event {'msg': 'effective_min_count=0 retains 645 unique words (100.00% of original 645, drops 0)', 'datetime': '2023-10-24T17:58:56.112865', 'gensim': '4.3.2', 'python': '3.11.4 (main, Jul  5 2023, 13:45:01) [GCC 11.2.0]', 'platform': 'Linux-5.15.0-87-generic-x86_64-with-glibc2.31', 'event': 'prepare_vocab'}\n",
      "INFO - 17:58:56: Word2Vec lifecycle event {'msg': 'effective_min_count=0 leaves 1924 word corpus (100.00% of original 1924, drops 0)', 'datetime': '2023-10-24T17:58:56.113209', 'gensim': '4.3.2', 'python': '3.11.4 (main, Jul  5 2023, 13:45:01) [GCC 11.2.0]', 'platform': 'Linux-5.15.0-87-generic-x86_64-with-glibc2.31', 'event': 'prepare_vocab'}\n",
      "INFO - 17:58:56: deleting the raw counts dictionary of 645 items\n",
      "INFO - 17:58:56: sample=0.001 downsamples 62 most-common words\n",
      "INFO - 17:58:56: Word2Vec lifecycle event {'msg': 'downsampling leaves estimated 1369.169849684317 word corpus (71.2%% of prior 1924)', 'datetime': '2023-10-24T17:58:56.118081', 'gensim': '4.3.2', 'python': '3.11.4 (main, Jul  5 2023, 13:45:01) [GCC 11.2.0]', 'platform': 'Linux-5.15.0-87-generic-x86_64-with-glibc2.31', 'event': 'prepare_vocab'}\n",
      "INFO - 17:58:56: estimated required memory for 645 words and 5 dimensions: 348300 bytes\n",
      "INFO - 17:58:56: resetting layer weights\n",
      "INFO - 17:58:56: Word2Vec lifecycle event {'update': False, 'trim_rule': 'None', 'datetime': '2023-10-24T17:58:56.122647', 'gensim': '4.3.2', 'python': '3.11.4 (main, Jul  5 2023, 13:45:01) [GCC 11.2.0]', 'platform': 'Linux-5.15.0-87-generic-x86_64-with-glibc2.31', 'event': 'build_vocab'}\n"
     ]
    },
    {
     "name": "stdout",
     "output_type": "stream",
     "text": [
      "Building the vocabulary\n"
     ]
    }
   ],
   "source": [
    "# Step 3: Build the vocabulary\n",
    "print(\"Building the vocabulary\")\n",
    "w2v_model.build_vocab(corpus, progress_per=100)"
   ]
  },
  {
   "cell_type": "code",
   "execution_count": 20,
   "metadata": {},
   "outputs": [
    {
     "name": "stderr",
     "output_type": "stream",
     "text": [
      "INFO - 17:58:56: Word2Vec lifecycle event {'msg': 'training model with 7 workers on 645 vocabulary and 5 features, using sg=1 hs=0 sample=0.001 negative=5 window=2 shrink_windows=True', 'datetime': '2023-10-24T17:58:56.129474', 'gensim': '4.3.2', 'python': '3.11.4 (main, Jul  5 2023, 13:45:01) [GCC 11.2.0]', 'platform': 'Linux-5.15.0-87-generic-x86_64-with-glibc2.31', 'event': 'train'}\n",
      "INFO - 17:58:56: EPOCH 0: training on 1924 raw words (1348 effective words) took 0.0s, 393201 effective words/s\n",
      "INFO - 17:58:56: EPOCH 1: training on 1924 raw words (1366 effective words) took 0.0s, 591312 effective words/s\n",
      "INFO - 17:58:56: EPOCH 2: training on 1924 raw words (1354 effective words) took 0.0s, 446151 effective words/s\n",
      "INFO - 17:58:56: EPOCH 3: training on 1924 raw words (1344 effective words) took 0.0s, 402522 effective words/s\n",
      "INFO - 17:58:56: EPOCH 4: training on 1924 raw words (1372 effective words) took 0.0s, 410035 effective words/s\n",
      "INFO - 17:58:56: EPOCH 5: training on 1924 raw words (1364 effective words) took 0.0s, 345666 effective words/s\n",
      "INFO - 17:58:56: EPOCH 6: training on 1924 raw words (1364 effective words) took 0.0s, 321846 effective words/s\n",
      "INFO - 17:58:56: EPOCH 7: training on 1924 raw words (1355 effective words) took 0.0s, 532961 effective words/s\n",
      "INFO - 17:58:56: EPOCH 8: training on 1924 raw words (1350 effective words) took 0.0s, 445694 effective words/s\n",
      "INFO - 17:58:56: EPOCH 9: training on 1924 raw words (1385 effective words) took 0.0s, 423457 effective words/s\n",
      "INFO - 17:58:56: EPOCH 10: training on 1924 raw words (1364 effective words) took 0.0s, 344171 effective words/s\n",
      "INFO - 17:58:56: EPOCH 11: training on 1924 raw words (1376 effective words) took 0.0s, 529546 effective words/s\n",
      "INFO - 17:58:56: EPOCH 12: training on 1924 raw words (1380 effective words) took 0.0s, 533175 effective words/s\n",
      "INFO - 17:58:56: EPOCH 13: training on 1924 raw words (1370 effective words) took 0.0s, 464329 effective words/s\n",
      "INFO - 17:58:56: EPOCH 14: training on 1924 raw words (1392 effective words) took 0.0s, 171873 effective words/s\n",
      "INFO - 17:58:56: EPOCH 15: training on 1924 raw words (1394 effective words) took 0.0s, 462128 effective words/s\n",
      "INFO - 17:58:56: EPOCH 16: training on 1924 raw words (1365 effective words) took 0.0s, 455857 effective words/s\n",
      "INFO - 17:58:56: EPOCH 17: training on 1924 raw words (1367 effective words) took 0.0s, 384265 effective words/s\n",
      "INFO - 17:58:56: EPOCH 18: training on 1924 raw words (1365 effective words) took 0.0s, 498456 effective words/s\n",
      "INFO - 17:58:56: EPOCH 19: training on 1924 raw words (1335 effective words) took 0.0s, 602100 effective words/s\n",
      "INFO - 17:58:56: EPOCH 20: training on 1924 raw words (1381 effective words) took 0.0s, 536335 effective words/s\n",
      "INFO - 17:58:56: EPOCH 21: training on 1924 raw words (1364 effective words) took 0.0s, 589277 effective words/s\n",
      "INFO - 17:58:56: EPOCH 22: training on 1924 raw words (1360 effective words) took 0.0s, 559461 effective words/s\n",
      "INFO - 17:58:56: EPOCH 23: training on 1924 raw words (1367 effective words) took 0.0s, 532723 effective words/s\n",
      "INFO - 17:58:56: EPOCH 24: training on 1924 raw words (1353 effective words) took 0.0s, 537747 effective words/s\n",
      "INFO - 17:58:56: EPOCH 25: training on 1924 raw words (1382 effective words) took 0.0s, 447865 effective words/s\n",
      "INFO - 17:58:56: EPOCH 26: training on 1924 raw words (1375 effective words) took 0.0s, 517185 effective words/s\n",
      "INFO - 17:58:56: EPOCH 27: training on 1924 raw words (1351 effective words) took 0.0s, 580154 effective words/s\n",
      "INFO - 17:58:56: EPOCH 28: training on 1924 raw words (1396 effective words) took 0.0s, 553697 effective words/s\n",
      "INFO - 17:58:56: EPOCH 29: training on 1924 raw words (1368 effective words) took 0.0s, 493642 effective words/s\n",
      "INFO - 17:58:56: Word2Vec lifecycle event {'msg': 'training on 57720 raw words (41007 effective words) took 0.1s, 274751 effective words/s', 'datetime': '2023-10-24T17:58:56.279502', 'gensim': '4.3.2', 'python': '3.11.4 (main, Jul  5 2023, 13:45:01) [GCC 11.2.0]', 'platform': 'Linux-5.15.0-87-generic-x86_64-with-glibc2.31', 'event': 'train'}\n"
     ]
    },
    {
     "name": "stdout",
     "output_type": "stream",
     "text": [
      "Training the model\n"
     ]
    },
    {
     "data": {
      "text/plain": [
       "(41007, 57720)"
      ]
     },
     "execution_count": 20,
     "metadata": {},
     "output_type": "execute_result"
    }
   ],
   "source": [
    "# Step 4: Train the model\n",
    "print(\"Training the model\")\n",
    "w2v_model.train(corpus, total_examples=w2v_model.corpus_count, epochs=30, report_delay=1)"
   ]
  },
  {
   "cell_type": "code",
   "execution_count": 26,
   "metadata": {},
   "outputs": [
    {
     "data": {
      "text/plain": [
       "[('i', 0.9990049600601196),\n",
       " ('became', 0.9982714653015137),\n",
       " ('berries', 0.9975578784942627),\n",
       " ('bring', 0.9973838329315186),\n",
       " ('they', 0.9971966743469238),\n",
       " ('violets', 0.9967678785324097),\n",
       " ('went', 0.9967342615127563),\n",
       " ('bells', 0.99602872133255),\n",
       " ('secret', 0.9958593845367432),\n",
       " ('nymph', 0.9958404302597046)]"
      ]
     },
     "execution_count": 26,
     "metadata": {},
     "output_type": "execute_result"
    }
   ],
   "source": [
    "w2v_model.wv.most_similar(positive=[\"all\"])"
   ]
  },
  {
   "cell_type": "code",
   "execution_count": null,
   "metadata": {},
   "outputs": [],
   "source": []
  }
 ],
 "metadata": {
  "kernelspec": {
   "display_name": "ML",
   "language": "python",
   "name": "python3"
  },
  "language_info": {
   "codemirror_mode": {
    "name": "ipython",
    "version": 3
   },
   "file_extension": ".py",
   "mimetype": "text/x-python",
   "name": "python",
   "nbconvert_exporter": "python",
   "pygments_lexer": "ipython3",
   "version": "3.11.4"
  },
  "orig_nbformat": 4
 },
 "nbformat": 4,
 "nbformat_minor": 2
}
