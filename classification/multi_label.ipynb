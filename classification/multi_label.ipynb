{
 "cells": [
  {
   "cell_type": "markdown",
   "metadata": {},
   "source": [
    "# Multi Label Classification"
   ]
  },
  {
   "cell_type": "code",
   "execution_count": 54,
   "metadata": {},
   "outputs": [
    {
     "name": "stdout",
     "output_type": "stream",
     "text": [
      "8\n"
     ]
    }
   ],
   "source": [
    "import scipy.io as sio\n",
    "import numpy as np\n",
    "from sklearn.multiclass import OneVsRestClassifier\n",
    "from sklearn.linear_model import LogisticRegression\n",
    "from sklearn.preprocessing import MultiLabelBinarizer\n",
    "import matplotlib.pyplot as plt\n",
    "import networkx as nx\n",
    "from sklearn.manifold import TSNE\n",
    "from sklearn.metrics import f1_score\n",
    "from gensim.models import Word2Vec, KeyedVectors\n",
    "import multiprocessing\n",
    "import sys\n",
    "import datetime\n",
    "import logging  # Setting up the loggings to monitor gensim\n",
    "logging.basicConfig(format=\"%(levelname)s - %(asctime)s: %(message)s\", level=logging.INFO)\n",
    "\n",
    "cores = multiprocessing.cpu_count() # Count the number of cores in a computer\n",
    "print(cores)"
   ]
  },
  {
   "cell_type": "code",
   "execution_count": 55,
   "metadata": {},
   "outputs": [],
   "source": [
    "# load a .mat file into a numpy array\n",
    "def load_mat(filename):\n",
    "    data = sio.loadmat(filename)\n",
    "    # return data['data']\n",
    "    return data"
   ]
  },
  {
   "cell_type": "code",
   "execution_count": 56,
   "metadata": {},
   "outputs": [
    {
     "name": "stderr",
     "output_type": "stream",
     "text": [
      "INFO - 2023-11-21 00:24:26,343: loading projection weights from ../embeddings/pos.txt\n",
      "INFO - 2023-11-21 00:24:26,581: KeyedVectors lifecycle event {'msg': 'loaded (4777, 128) matrix of type float32 from ../embeddings/pos.txt', 'binary': False, 'encoding': 'utf8', 'datetime': '2023-11-21T00:24:26.581151', 'gensim': '4.3.2', 'python': '3.11.4 (main, Jul  5 2023, 13:45:01) [GCC 11.2.0]', 'platform': 'Linux-5.15.0-88-generic-x86_64-with-glibc2.31', 'event': 'load_word2vec_format'}\n"
     ]
    },
    {
     "name": "stdout",
     "output_type": "stream",
     "text": [
      "KeyedVectors<vector_size=128, 4777 keys>\n"
     ]
    }
   ],
   "source": [
    "# Step 1: load the embeddings from word_2_vec format using keyedvectors\n",
    "model = KeyedVectors.load_word2vec_format('../embeddings/pos.txt', binary=False)\n",
    "print(model)"
   ]
  },
  {
   "cell_type": "code",
   "execution_count": 57,
   "metadata": {},
   "outputs": [
    {
     "name": "stdout",
     "output_type": "stream",
     "text": [
      "(4777, 40)\n",
      "[0. 0. 1. 1. 0. 0. 0. 0. 0. 0. 0. 0. 0. 0. 0. 1. 0. 0. 0. 0. 0. 0. 0. 0.\n",
      " 0. 0. 0. 0. 0. 0. 0. 0. 0. 0. 0. 0. 0. 0. 0. 0.]\n"
     ]
    }
   ],
   "source": [
    "# Step 2: Also obtain the labels\n",
    "data_np = load_mat('../datasets/pos.mat')\n",
    "labels_one_hot = data_np['group'].toarray()\n",
    "\n",
    "print(labels_one_hot.shape)     # (10312, 39)\n",
    "\n",
    "'''Now we know that the labels are one-hot encoded'''\n",
    "label_sample = labels_one_hot[10]      # Thus, each node can have multiple labels (indicated by 2 ones in the array)\n",
    "print(label_sample)"
   ]
  },
  {
   "cell_type": "code",
   "execution_count": 58,
   "metadata": {},
   "outputs": [],
   "source": [
    "# define the classification model: One vs rest classifier -> Obtained from ChatGPT\n",
    "class TopKRanker(OneVsRestClassifier):\n",
    "    def __init__(self, estimator=None):\n",
    "        super(TopKRanker, self).__init__(estimator=estimator)\n",
    "\n",
    "    def predict(self, X, top_k_list):\n",
    "        assert X.shape[0] == len(top_k_list)\n",
    "        probs = np.asarray(super(TopKRanker, self).predict_proba(X))\n",
    "        all_labels = []\n",
    "        for i, k in enumerate(top_k_list):\n",
    "            probs_ = probs[i, :]\n",
    "            labels = np.argsort(probs_)[-k:].tolist()  # Get indices of top k labels\n",
    "            all_labels.append(labels)\n",
    "        return all_labels\n"
   ]
  },
  {
   "cell_type": "code",
   "execution_count": 59,
   "metadata": {},
   "outputs": [
    {
     "ename": "ValueError",
     "evalue": "You appear to be using a legacy multi-label data representation. Sequence of sequences are no longer supported; use a binary array or sparse matrix instead - the MultiLabelBinarizer transformer can convert to this format.",
     "output_type": "error",
     "traceback": [
      "\u001b[0;31m---------------------------------------------------------------------------\u001b[0m",
      "\u001b[0;31mValueError\u001b[0m                                Traceback (most recent call last)",
      "\u001b[1;32m/home/anika/Desktop/smai/project-lmailmai/classification/multi_label.ipynb Cell 7\u001b[0m line \u001b[0;36m4\n\u001b[1;32m     <a href='vscode-notebook-cell:/home/anika/Desktop/smai/project-lmailmai/classification/multi_label.ipynb#W4sZmlsZQ%3D%3D?line=45'>46</a>\u001b[0m \u001b[39m# Step 6: Train the classifier\u001b[39;00m\n\u001b[1;32m     <a href='vscode-notebook-cell:/home/anika/Desktop/smai/project-lmailmai/classification/multi_label.ipynb#W4sZmlsZQ%3D%3D?line=46'>47</a>\u001b[0m classifier \u001b[39m=\u001b[39m TopKRanker(LogisticRegression())\n\u001b[0;32m---> <a href='vscode-notebook-cell:/home/anika/Desktop/smai/project-lmailmai/classification/multi_label.ipynb#W4sZmlsZQ%3D%3D?line=47'>48</a>\u001b[0m classifier\u001b[39m.\u001b[39;49mfit(X_train, train_labels)\n\u001b[1;32m     <a href='vscode-notebook-cell:/home/anika/Desktop/smai/project-lmailmai/classification/multi_label.ipynb#W4sZmlsZQ%3D%3D?line=49'>50</a>\u001b[0m \u001b[39m# Step 7: Obtain the predictions\u001b[39;00m\n\u001b[1;32m     <a href='vscode-notebook-cell:/home/anika/Desktop/smai/project-lmailmai/classification/multi_label.ipynb#W4sZmlsZQ%3D%3D?line=50'>51</a>\u001b[0m predictions \u001b[39m=\u001b[39m classifier\u001b[39m.\u001b[39mpredict(X_test, top_k_list\u001b[39m=\u001b[39m[\u001b[39mlen\u001b[39m(l) \u001b[39mfor\u001b[39;00m l \u001b[39min\u001b[39;00m test_labels])\n",
      "File \u001b[0;32m~/miniconda3/envs/ML/lib/python3.11/site-packages/sklearn/base.py:1151\u001b[0m, in \u001b[0;36m_fit_context.<locals>.decorator.<locals>.wrapper\u001b[0;34m(estimator, *args, **kwargs)\u001b[0m\n\u001b[1;32m   1144\u001b[0m     estimator\u001b[39m.\u001b[39m_validate_params()\n\u001b[1;32m   1146\u001b[0m \u001b[39mwith\u001b[39;00m config_context(\n\u001b[1;32m   1147\u001b[0m     skip_parameter_validation\u001b[39m=\u001b[39m(\n\u001b[1;32m   1148\u001b[0m         prefer_skip_nested_validation \u001b[39mor\u001b[39;00m global_skip_validation\n\u001b[1;32m   1149\u001b[0m     )\n\u001b[1;32m   1150\u001b[0m ):\n\u001b[0;32m-> 1151\u001b[0m     \u001b[39mreturn\u001b[39;00m fit_method(estimator, \u001b[39m*\u001b[39;49margs, \u001b[39m*\u001b[39;49m\u001b[39m*\u001b[39;49mkwargs)\n",
      "File \u001b[0;32m~/miniconda3/envs/ML/lib/python3.11/site-packages/sklearn/multiclass.py:332\u001b[0m, in \u001b[0;36mOneVsRestClassifier.fit\u001b[0;34m(self, X, y)\u001b[0m\n\u001b[1;32m    327\u001b[0m \u001b[39m# A sparse LabelBinarizer, with sparse_output=True, has been shown to\u001b[39;00m\n\u001b[1;32m    328\u001b[0m \u001b[39m# outperform or match a dense label binarizer in all cases and has also\u001b[39;00m\n\u001b[1;32m    329\u001b[0m \u001b[39m# resulted in less or equal memory consumption in the fit_ovr function\u001b[39;00m\n\u001b[1;32m    330\u001b[0m \u001b[39m# overall.\u001b[39;00m\n\u001b[1;32m    331\u001b[0m \u001b[39mself\u001b[39m\u001b[39m.\u001b[39mlabel_binarizer_ \u001b[39m=\u001b[39m LabelBinarizer(sparse_output\u001b[39m=\u001b[39m\u001b[39mTrue\u001b[39;00m)\n\u001b[0;32m--> 332\u001b[0m Y \u001b[39m=\u001b[39m \u001b[39mself\u001b[39;49m\u001b[39m.\u001b[39;49mlabel_binarizer_\u001b[39m.\u001b[39;49mfit_transform(y)\n\u001b[1;32m    333\u001b[0m Y \u001b[39m=\u001b[39m Y\u001b[39m.\u001b[39mtocsc()\n\u001b[1;32m    334\u001b[0m \u001b[39mself\u001b[39m\u001b[39m.\u001b[39mclasses_ \u001b[39m=\u001b[39m \u001b[39mself\u001b[39m\u001b[39m.\u001b[39mlabel_binarizer_\u001b[39m.\u001b[39mclasses_\n",
      "File \u001b[0;32m~/miniconda3/envs/ML/lib/python3.11/site-packages/sklearn/utils/_set_output.py:140\u001b[0m, in \u001b[0;36m_wrap_method_output.<locals>.wrapped\u001b[0;34m(self, X, *args, **kwargs)\u001b[0m\n\u001b[1;32m    138\u001b[0m \u001b[39m@wraps\u001b[39m(f)\n\u001b[1;32m    139\u001b[0m \u001b[39mdef\u001b[39;00m \u001b[39mwrapped\u001b[39m(\u001b[39mself\u001b[39m, X, \u001b[39m*\u001b[39margs, \u001b[39m*\u001b[39m\u001b[39m*\u001b[39mkwargs):\n\u001b[0;32m--> 140\u001b[0m     data_to_wrap \u001b[39m=\u001b[39m f(\u001b[39mself\u001b[39;49m, X, \u001b[39m*\u001b[39;49margs, \u001b[39m*\u001b[39;49m\u001b[39m*\u001b[39;49mkwargs)\n\u001b[1;32m    141\u001b[0m     \u001b[39mif\u001b[39;00m \u001b[39misinstance\u001b[39m(data_to_wrap, \u001b[39mtuple\u001b[39m):\n\u001b[1;32m    142\u001b[0m         \u001b[39m# only wrap the first output for cross decomposition\u001b[39;00m\n\u001b[1;32m    143\u001b[0m         return_tuple \u001b[39m=\u001b[39m (\n\u001b[1;32m    144\u001b[0m             _wrap_data_with_container(method, data_to_wrap[\u001b[39m0\u001b[39m], X, \u001b[39mself\u001b[39m),\n\u001b[1;32m    145\u001b[0m             \u001b[39m*\u001b[39mdata_to_wrap[\u001b[39m1\u001b[39m:],\n\u001b[1;32m    146\u001b[0m         )\n",
      "File \u001b[0;32m~/miniconda3/envs/ML/lib/python3.11/site-packages/sklearn/preprocessing/_label.py:329\u001b[0m, in \u001b[0;36mLabelBinarizer.fit_transform\u001b[0;34m(self, y)\u001b[0m\n\u001b[1;32m    309\u001b[0m \u001b[39mdef\u001b[39;00m \u001b[39mfit_transform\u001b[39m(\u001b[39mself\u001b[39m, y):\n\u001b[1;32m    310\u001b[0m \u001b[39m    \u001b[39m\u001b[39m\"\"\"Fit label binarizer/transform multi-class labels to binary labels.\u001b[39;00m\n\u001b[1;32m    311\u001b[0m \n\u001b[1;32m    312\u001b[0m \u001b[39m    The output of transform is sometimes referred to as\u001b[39;00m\n\u001b[0;32m   (...)\u001b[0m\n\u001b[1;32m    327\u001b[0m \u001b[39m        will be of CSR format.\u001b[39;00m\n\u001b[1;32m    328\u001b[0m \u001b[39m    \"\"\"\u001b[39;00m\n\u001b[0;32m--> 329\u001b[0m     \u001b[39mreturn\u001b[39;00m \u001b[39mself\u001b[39;49m\u001b[39m.\u001b[39;49mfit(y)\u001b[39m.\u001b[39mtransform(y)\n",
      "File \u001b[0;32m~/miniconda3/envs/ML/lib/python3.11/site-packages/sklearn/base.py:1151\u001b[0m, in \u001b[0;36m_fit_context.<locals>.decorator.<locals>.wrapper\u001b[0;34m(estimator, *args, **kwargs)\u001b[0m\n\u001b[1;32m   1144\u001b[0m     estimator\u001b[39m.\u001b[39m_validate_params()\n\u001b[1;32m   1146\u001b[0m \u001b[39mwith\u001b[39;00m config_context(\n\u001b[1;32m   1147\u001b[0m     skip_parameter_validation\u001b[39m=\u001b[39m(\n\u001b[1;32m   1148\u001b[0m         prefer_skip_nested_validation \u001b[39mor\u001b[39;00m global_skip_validation\n\u001b[1;32m   1149\u001b[0m     )\n\u001b[1;32m   1150\u001b[0m ):\n\u001b[0;32m-> 1151\u001b[0m     \u001b[39mreturn\u001b[39;00m fit_method(estimator, \u001b[39m*\u001b[39;49margs, \u001b[39m*\u001b[39;49m\u001b[39m*\u001b[39;49mkwargs)\n",
      "File \u001b[0;32m~/miniconda3/envs/ML/lib/python3.11/site-packages/sklearn/preprocessing/_label.py:296\u001b[0m, in \u001b[0;36mLabelBinarizer.fit\u001b[0;34m(self, y)\u001b[0m\n\u001b[1;32m    289\u001b[0m \u001b[39mif\u001b[39;00m \u001b[39mself\u001b[39m\u001b[39m.\u001b[39msparse_output \u001b[39mand\u001b[39;00m (\u001b[39mself\u001b[39m\u001b[39m.\u001b[39mpos_label \u001b[39m==\u001b[39m \u001b[39m0\u001b[39m \u001b[39mor\u001b[39;00m \u001b[39mself\u001b[39m\u001b[39m.\u001b[39mneg_label \u001b[39m!=\u001b[39m \u001b[39m0\u001b[39m):\n\u001b[1;32m    290\u001b[0m     \u001b[39mraise\u001b[39;00m \u001b[39mValueError\u001b[39;00m(\n\u001b[1;32m    291\u001b[0m         \u001b[39m\"\u001b[39m\u001b[39mSparse binarization is only supported with non \u001b[39m\u001b[39m\"\u001b[39m\n\u001b[1;32m    292\u001b[0m         \u001b[39m\"\u001b[39m\u001b[39mzero pos_label and zero neg_label, got \u001b[39m\u001b[39m\"\u001b[39m\n\u001b[1;32m    293\u001b[0m         \u001b[39mf\u001b[39m\u001b[39m\"\u001b[39m\u001b[39mpos_label=\u001b[39m\u001b[39m{\u001b[39;00m\u001b[39mself\u001b[39m\u001b[39m.\u001b[39mpos_label\u001b[39m}\u001b[39;00m\u001b[39m and neg_label=\u001b[39m\u001b[39m{\u001b[39;00m\u001b[39mself\u001b[39m\u001b[39m.\u001b[39mneg_label\u001b[39m}\u001b[39;00m\u001b[39m\"\u001b[39m\n\u001b[1;32m    294\u001b[0m     )\n\u001b[0;32m--> 296\u001b[0m \u001b[39mself\u001b[39m\u001b[39m.\u001b[39my_type_ \u001b[39m=\u001b[39m type_of_target(y, input_name\u001b[39m=\u001b[39;49m\u001b[39m\"\u001b[39;49m\u001b[39my\u001b[39;49m\u001b[39m\"\u001b[39;49m)\n\u001b[1;32m    298\u001b[0m \u001b[39mif\u001b[39;00m \u001b[39m\"\u001b[39m\u001b[39mmultioutput\u001b[39m\u001b[39m\"\u001b[39m \u001b[39min\u001b[39;00m \u001b[39mself\u001b[39m\u001b[39m.\u001b[39my_type_:\n\u001b[1;32m    299\u001b[0m     \u001b[39mraise\u001b[39;00m \u001b[39mValueError\u001b[39;00m(\n\u001b[1;32m    300\u001b[0m         \u001b[39m\"\u001b[39m\u001b[39mMultioutput target data is not supported with label binarization\u001b[39m\u001b[39m\"\u001b[39m\n\u001b[1;32m    301\u001b[0m     )\n",
      "File \u001b[0;32m~/miniconda3/envs/ML/lib/python3.11/site-packages/sklearn/utils/multiclass.py:346\u001b[0m, in \u001b[0;36mtype_of_target\u001b[0;34m(y, input_name)\u001b[0m\n\u001b[1;32m    340\u001b[0m \u001b[39mtry\u001b[39;00m:\n\u001b[1;32m    341\u001b[0m     \u001b[39mif\u001b[39;00m (\n\u001b[1;32m    342\u001b[0m         \u001b[39mnot\u001b[39;00m \u001b[39mhasattr\u001b[39m(y[\u001b[39m0\u001b[39m], \u001b[39m\"\u001b[39m\u001b[39m__array__\u001b[39m\u001b[39m\"\u001b[39m)\n\u001b[1;32m    343\u001b[0m         \u001b[39mand\u001b[39;00m \u001b[39misinstance\u001b[39m(y[\u001b[39m0\u001b[39m], Sequence)\n\u001b[1;32m    344\u001b[0m         \u001b[39mand\u001b[39;00m \u001b[39mnot\u001b[39;00m \u001b[39misinstance\u001b[39m(y[\u001b[39m0\u001b[39m], \u001b[39mstr\u001b[39m)\n\u001b[1;32m    345\u001b[0m     ):\n\u001b[0;32m--> 346\u001b[0m         \u001b[39mraise\u001b[39;00m \u001b[39mValueError\u001b[39;00m(\n\u001b[1;32m    347\u001b[0m             \u001b[39m\"\u001b[39m\u001b[39mYou appear to be using a legacy multi-label data\u001b[39m\u001b[39m\"\u001b[39m\n\u001b[1;32m    348\u001b[0m             \u001b[39m\"\u001b[39m\u001b[39m representation. Sequence of sequences are no\u001b[39m\u001b[39m\"\u001b[39m\n\u001b[1;32m    349\u001b[0m             \u001b[39m\"\u001b[39m\u001b[39m longer supported; use a binary array or sparse\u001b[39m\u001b[39m\"\u001b[39m\n\u001b[1;32m    350\u001b[0m             \u001b[39m\"\u001b[39m\u001b[39m matrix instead - the MultiLabelBinarizer\u001b[39m\u001b[39m\"\u001b[39m\n\u001b[1;32m    351\u001b[0m             \u001b[39m\"\u001b[39m\u001b[39m transformer can convert to this format.\u001b[39m\u001b[39m\"\u001b[39m\n\u001b[1;32m    352\u001b[0m         )\n\u001b[1;32m    353\u001b[0m \u001b[39mexcept\u001b[39;00m \u001b[39mIndexError\u001b[39;00m:\n\u001b[1;32m    354\u001b[0m     \u001b[39mpass\u001b[39;00m\n",
      "\u001b[0;31mValueError\u001b[0m: You appear to be using a legacy multi-label data representation. Sequence of sequences are no longer supported; use a binary array or sparse matrix instead - the MultiLabelBinarizer transformer can convert to this format."
     ]
    }
   ],
   "source": [
    "training_fraction = [0.1, 0.3, 0.5, 0.7, 0.9]\n",
    "dataset_size = labels_one_hot.shape[0]\n",
    "embedding_dim = 128\n",
    "\n",
    "# loop through the training fractions and see how micro and macro F1 scores change -> autocompleted by copilot\n",
    "for fraction in training_fraction:\n",
    "    # Step 3: Shuffle the dataset\n",
    "    np.random.seed(0)\n",
    "    indices = np.arange(dataset_size)\n",
    "    np.random.shuffle(indices)\n",
    "\n",
    "    # Step 4: Obtain the training and testing indices\n",
    "    training_size = int(dataset_size * fraction)\n",
    "    test_size = dataset_size - training_size\n",
    "    training_indices = indices[:training_size]\n",
    "    testing_indices = indices[training_size:]\n",
    "\n",
    "    # Step 4.1: Initialize empty matrices for X_train and X_test\n",
    "    X_train = np.zeros((training_size, embedding_dim))  # 'train_size' is the size of our training set\n",
    "    X_test = np.zeros((test_size, embedding_dim))    # 'test_size' is the size of our test set\n",
    "\n",
    "        # We need to populate 'train_indices' and 'test_indices' based on our train/test split\n",
    "\n",
    "    # Populate X_train with embeddings for train set nodes\n",
    "    for i, node_index in enumerate(training_indices):\n",
    "        if str(node_index) in model:\n",
    "            X_train[i] = model[str(node_index)]\n",
    "\n",
    "    # Populate X_test with embeddings for test set nodes\n",
    "    for i, node_index in enumerate(testing_indices):\n",
    "        if str(node_index) in model:\n",
    "            X_test[i] = model[str(node_index)]\n",
    "\n",
    "    # Step 4.2: Obtain the training and testing labels\n",
    "    y_train = labels_one_hot[training_indices]\n",
    "    y_test = labels_one_hot[testing_indices]\n",
    "\n",
    "    # Step 5: Change the labels to a list of labels for OnevsRestClassifier\n",
    "    train_labels = []\n",
    "    test_labels = []\n",
    "    for i in range(y_train.shape[0]):\n",
    "        train_labels.append(np.where(y_train[i] == 1)[0].tolist())\n",
    "    for i in range(y_test.shape[0]):\n",
    "        test_labels.append(np.where(y_test[i] == 1)[0].tolist())\n",
    "\n",
    "    # Step 6: Train the classifier\n",
    "    classifier = TopKRanker(LogisticRegression())\n",
    "    classifier.fit(X_train, train_labels)\n",
    "\n",
    "    # Step 7: Obtain the predictions\n",
    "    predictions = classifier.predict(X_test, top_k_list=[len(l) for l in test_labels])\n",
    "\n",
    "    # Step 8: Calculate the micro and macro F1 scores\n",
    "    mlb = MultiLabelBinarizer(classes=np.arange(39))\n",
    "    micro_f1 = f1_score(mlb.fit_transform(test_labels), mlb.fit_transform(predictions), average='micro')\n",
    "    macro_f1 = f1_score(mlb.fit_transform(test_labels), mlb.fit_transform(predictions), average='macro')\n",
    "\n",
    "    print(\"Training fraction: \", fraction)\n",
    "    print(\"Micro F1 score: \", micro_f1)\n",
    "    print(\"Macro F1 score: \", macro_f1)\n",
    "    print(\"-------------------------------------------------\")\n",
    "    "
   ]
  }
 ],
 "metadata": {
  "kernelspec": {
   "display_name": "ML",
   "language": "python",
   "name": "python3"
  },
  "language_info": {
   "codemirror_mode": {
    "name": "ipython",
    "version": 3
   },
   "file_extension": ".py",
   "mimetype": "text/x-python",
   "name": "python",
   "nbconvert_exporter": "python",
   "pygments_lexer": "ipython3",
   "version": "3.11.4"
  }
 },
 "nbformat": 4,
 "nbformat_minor": 2
}
