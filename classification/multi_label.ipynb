{
 "cells": [
  {
   "cell_type": "markdown",
   "metadata": {},
   "source": [
    "# Multi Label Classification"
   ]
  },
  {
   "cell_type": "code",
   "execution_count": 28,
   "metadata": {},
   "outputs": [
    {
     "name": "stdout",
     "output_type": "stream",
     "text": [
      "8\n"
     ]
    }
   ],
   "source": [
    "import scipy.io as sio\n",
    "import numpy as np\n",
    "from sklearn.multiclass import OneVsRestClassifier\n",
    "from sklearn.linear_model import LogisticRegression\n",
    "import matplotlib.pyplot as plt\n",
    "import networkx as nx\n",
    "from sklearn.manifold import TSNE\n",
    "from gensim.models import Word2Vec, KeyedVectors\n",
    "import multiprocessing\n",
    "import sys\n",
    "import datetime\n",
    "import logging  # Setting up the loggings to monitor gensim\n",
    "logging.basicConfig(format=\"%(levelname)s - %(asctime)s: %(message)s\", level=logging.INFO)\n",
    "\n",
    "cores = multiprocessing.cpu_count() # Count the number of cores in a computer\n",
    "print(cores)"
   ]
  },
  {
   "cell_type": "code",
   "execution_count": 29,
   "metadata": {},
   "outputs": [],
   "source": [
    "# load a .mat file into a numpy array\n",
    "def load_mat(filename):\n",
    "    data = sio.loadmat(filename)\n",
    "    # return data['data']\n",
    "    return data"
   ]
  },
  {
   "cell_type": "code",
   "execution_count": 30,
   "metadata": {},
   "outputs": [
    {
     "name": "stderr",
     "output_type": "stream",
     "text": [
      "INFO - 2023-11-20 23:04:05,230: loading projection weights from ../embeddings/pos.txt\n",
      "INFO - 2023-11-20 23:04:05,500: KeyedVectors lifecycle event {'msg': 'loaded (4777, 128) matrix of type float32 from ../embeddings/pos.txt', 'binary': False, 'encoding': 'utf8', 'datetime': '2023-11-20T23:04:05.500475', 'gensim': '4.3.2', 'python': '3.11.4 (main, Jul  5 2023, 13:45:01) [GCC 11.2.0]', 'platform': 'Linux-5.15.0-88-generic-x86_64-with-glibc2.31', 'event': 'load_word2vec_format'}\n"
     ]
    },
    {
     "name": "stdout",
     "output_type": "stream",
     "text": [
      "KeyedVectors<vector_size=128, 4777 keys>\n"
     ]
    }
   ],
   "source": [
    "# Step 1: load the embeddings from word_2_vec format using keyedvectors\n",
    "model = KeyedVectors.load_word2vec_format('../embeddings/pos.txt', binary=False)\n",
    "print(model)"
   ]
  },
  {
   "cell_type": "code",
   "execution_count": 31,
   "metadata": {},
   "outputs": [
    {
     "name": "stdout",
     "output_type": "stream",
     "text": [
      "(4777, 40)\n",
      "[0. 0. 1. 1. 0. 0. 0. 0. 0. 0. 0. 0. 0. 0. 0. 1. 0. 0. 0. 0. 0. 0. 0. 0.\n",
      " 0. 0. 0. 0. 0. 0. 0. 0. 0. 0. 0. 0. 0. 0. 0. 0.]\n"
     ]
    }
   ],
   "source": [
    "# Step 2: Also obtain the labels\n",
    "data_np = load_mat('../datasets/pos.mat')\n",
    "labels_one_hot = data_np['group'].toarray()\n",
    "\n",
    "print(labels_one_hot.shape)     # (10312, 39)\n",
    "\n",
    "'''Now we know that the labels are one-hot encoded'''\n",
    "label_sample = labels_one_hot[10]      # Thus, each node can have multiple labels (indicated by 2 ones in the array)\n",
    "print(label_sample)"
   ]
  },
  {
   "cell_type": "code",
   "execution_count": null,
   "metadata": {},
   "outputs": [],
   "source": [
    "# define the classification model: One vs rest classifier -> Obtained from ChatGPT\n",
    "class TopKRanker(OneVsRestClassifier):\n",
    "    def __init__(self, estimator=LogisticRegression(), n_jobs=None):\n",
    "        super(TopKRanker, self).__init__(estimator, n_jobs)\n",
    "    \n",
    "    def predict(self, X, top_k_list):\n",
    "        assert X.shape[0] == len(top_k_list)\n",
    "        probs = np.asarray(super(TopKRanker, self).predict_proba(X))\n",
    "        all_labels = []\n",
    "        for i, k in enumerate(top_k_list):\n",
    "            probs_ = probs[i, :]\n",
    "            labels = np.argsort(probs_)[-k:].tolist()  # Get indices of top k labels\n",
    "            all_labels.append(labels)\n",
    "        return all_labels\n"
   ]
  },
  {
   "cell_type": "code",
   "execution_count": 32,
   "metadata": {},
   "outputs": [],
   "source": [
    "training_fraction = [0.1, 0.3, 0.5, 0.7, 0.9]\n",
    "dataset_size = labels_one_hot.shape[0]\n",
    "embedding_dim = 128\n",
    "\n",
    "# loop through the training fractions and see how micro and macro F1 scores change -> autocompleted by copilot\n",
    "for fraction in training_fraction:\n",
    "    # Step 3: Shuffle the dataset\n",
    "    np.random.seed(0)\n",
    "    indices = np.arange(dataset_size)\n",
    "    np.random.shuffle(indices)\n",
    "\n",
    "    # Step 4: Obtain the training and testing indices\n",
    "    training_size = int(dataset_size * fraction)\n",
    "    test_size = dataset_size - training_size\n",
    "    training_indices = indices[:training_size]\n",
    "    testing_indices = indices[training_size:]\n",
    "\n",
    "    # Step 4.1: Initialize empty matrices for X_train and X_test\n",
    "    X_train = np.zeros((training_size, embedding_dim))  # 'train_size' is the size of our training set\n",
    "    X_test = np.zeros((test_size, embedding_dim))    # 'test_size' is the size of our test set\n",
    "\n",
    "        # We need to populate 'train_indices' and 'test_indices' based on our train/test split\n",
    "\n",
    "    # Populate X_train with embeddings for train set nodes\n",
    "    for i, node_index in enumerate(training_indices):\n",
    "        if str(node_index) in model:\n",
    "            X_train[i] = model[str(node_index)]\n",
    "\n",
    "    # Populate X_test with embeddings for test set nodes\n",
    "    for i, node_index in enumerate(testing_indices):\n",
    "        if str(node_index) in model:\n",
    "            X_test[i] = model[str(node_index)]\n",
    "\n",
    "    # Step 4.2: Obtain the training and testing labels\n",
    "    y_train = labels_one_hot[training_indices]\n",
    "    y_test = labels_one_hot[testing_indices]\n",
    "\n",
    "    "
   ]
  }
 ],
 "metadata": {
  "kernelspec": {
   "display_name": "ML",
   "language": "python",
   "name": "python3"
  },
  "language_info": {
   "codemirror_mode": {
    "name": "ipython",
    "version": 3
   },
   "file_extension": ".py",
   "mimetype": "text/x-python",
   "name": "python",
   "nbconvert_exporter": "python",
   "pygments_lexer": "ipython3",
   "version": "3.11.4"
  }
 },
 "nbformat": 4,
 "nbformat_minor": 2
}
