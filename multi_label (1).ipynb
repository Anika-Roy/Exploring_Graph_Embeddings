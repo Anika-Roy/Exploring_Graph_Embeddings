{
 "cells": [
  {
   "cell_type": "markdown",
   "metadata": {},
   "source": [
    "# Multi Label Classification"
   ]
  },
  {
   "cell_type": "code",
   "execution_count": 22,
   "metadata": {},
   "outputs": [
    {
     "name": "stdout",
     "output_type": "stream",
     "text": [
      "8\n"
     ]
    }
   ],
   "source": [
    "import scipy.io as sio\n",
    "import numpy as np\n",
    "from sklearn.multiclass import OneVsRestClassifier\n",
    "from sklearn.linear_model import LogisticRegression\n",
    "from sklearn.preprocessing import MultiLabelBinarizer\n",
    "import matplotlib.pyplot as plt\n",
    "import networkx as nx\n",
    "from sklearn.manifold import TSNE\n",
    "from sklearn.metrics import f1_score\n",
    "from gensim.models import Word2Vec, KeyedVectors\n",
    "import multiprocessing\n",
    "import sys\n",
    "import datetime\n",
    "import logging  # Setting up the loggings to monitor gensim\n",
    "logging.basicConfig(format=\"%(levelname)s - %(asctime)s: %(message)s\", level=logging.INFO)\n",
    "\n",
    "cores = multiprocessing.cpu_count() # Count the number of cores in a computer\n",
    "print(cores)"
   ]
  },
  {
   "cell_type": "code",
   "execution_count": 23,
   "metadata": {},
   "outputs": [],
   "source": [
    "# load a .mat file into a numpy array\n",
    "def load_mat(filename):\n",
    "    data = sio.loadmat(filename)\n",
    "    # return data['data']\n",
    "    return data"
   ]
  },
  {
   "cell_type": "code",
   "execution_count": 24,
   "metadata": {},
   "outputs": [
    {
     "name": "stderr",
     "output_type": "stream",
     "text": [
      "INFO - 2023-11-27 04:15:10,404: loading projection weights from ../embeddings/ppi.txt\n",
      "INFO - 2023-11-27 04:15:10,693: KeyedVectors lifecycle event {'msg': 'loaded (3890, 128) matrix of type float32 from ../embeddings/ppi.txt', 'binary': False, 'encoding': 'utf8', 'datetime': '2023-11-27T04:15:10.693111', 'gensim': '4.3.2', 'python': '3.11.4 (main, Jul  5 2023, 13:45:01) [GCC 11.2.0]', 'platform': 'Linux-5.15.0-88-generic-x86_64-with-glibc2.31', 'event': 'load_word2vec_format'}\n"
     ]
    },
    {
     "name": "stdout",
     "output_type": "stream",
     "text": [
      "KeyedVectors<vector_size=128, 3890 keys>\n"
     ]
    }
   ],
   "source": [
    "# Step 1: load the embeddings from word_2_vec format using keyedvectors\n",
    "model = KeyedVectors.load_word2vec_format('../embeddings/ppi.txt', binary=False)\n",
    "print(model)"
   ]
  },
  {
   "cell_type": "code",
   "execution_count": 25,
   "metadata": {},
   "outputs": [
    {
     "name": "stdout",
     "output_type": "stream",
     "text": [
      "(3890, 50)\n",
      "[0. 0. 0. 0. 0. 0. 0. 0. 0. 1. 0. 0. 0. 0. 0. 0. 0. 0. 0. 0. 0. 0. 0. 0.\n",
      " 0. 0. 0. 0. 0. 0. 0. 0. 0. 0. 0. 0. 0. 0. 0. 0. 0. 0. 0. 0. 0. 0. 0. 0.\n",
      " 0. 0.]\n"
     ]
    }
   ],
   "source": [
    "# Step 2: Also obtain the labels\n",
    "data_np = load_mat('../datasets/ppi.mat')\n",
    "labels_one_hot = data_np['group'].toarray()\n",
    "\n",
    "print(labels_one_hot.shape)     # (10312, 39)\n",
    "\n",
    "'''Now we know that the labels are one-hot encoded'''\n",
    "label_sample = labels_one_hot[10]      # Thus, each node can have multiple labels (indicated by 2 ones in the array)\n",
    "print(label_sample)"
   ]
  },
  {
   "cell_type": "code",
   "execution_count": 26,
   "metadata": {},
   "outputs": [],
   "source": [
    "# define the classification model: One vs rest classifier -> Obtained from ChatGPT\n",
    "class TopKRanker(OneVsRestClassifier):\n",
    "    def __init__(self, estimator=None):\n",
    "        super(TopKRanker, self).__init__(estimator=estimator)\n",
    "\n",
    "    def predict(self, X, top_k_list):\n",
    "        assert X.shape[0] == len(top_k_list)\n",
    "        probs = np.asarray(super(TopKRanker, self).predict_proba(X))\n",
    "        all_labels = []\n",
    "        for i, k in enumerate(top_k_list):\n",
    "            probs_ = probs[i, :]\n",
    "            labels = np.argsort(probs_)[-k:].tolist()  # Get indices of top k labels\n",
    "            all_labels.append(labels)\n",
    "        return all_labels\n"
   ]
  },
  {
   "cell_type": "code",
   "execution_count": 27,
   "metadata": {},
   "outputs": [
    {
     "name": "stdout",
     "output_type": "stream",
     "text": [
      "sample y_train: [0. 0. 0. 0. 0. 1. 0. 0. 0. 0. 0. 0. 0. 0. 0. 0. 0. 0. 0. 0. 0. 0. 0. 0.\n",
      " 0. 0. 0. 0. 0. 0. 0. 0. 0. 0. 0. 0. 0. 0. 0. 0. 0. 0. 0. 0. 0. 0. 0. 0.\n",
      " 0. 0.]\n",
      "Training fraction:  0.1\n",
      "Micro F1 score:  0.11355311355311355\n",
      "Macro F1 score:  0.08313960222315453\n",
      "-------------------------------------------------\n",
      "sample y_train: [0. 0. 0. 0. 0. 1. 0. 0. 0. 0. 0. 0. 0. 0. 0. 0. 0. 0. 0. 0. 0. 0. 0. 0.\n",
      " 0. 0. 0. 0. 0. 0. 0. 0. 0. 0. 0. 0. 0. 0. 0. 0. 0. 0. 0. 0. 0. 0. 0. 0.\n",
      " 0. 0.]\n",
      "Training fraction:  0.2\n",
      "Micro F1 score:  0.13386855862584018\n",
      "Macro F1 score:  0.10374670607852288\n",
      "-------------------------------------------------\n",
      "sample y_train: [0. 0. 0. 0. 0. 1. 0. 0. 0. 0. 0. 0. 0. 0. 0. 0. 0. 0. 0. 0. 0. 0. 0. 0.\n",
      " 0. 0. 0. 0. 0. 0. 0. 0. 0. 0. 0. 0. 0. 0. 0. 0. 0. 0. 0. 0. 0. 0. 0. 0.\n",
      " 0. 0.]\n",
      "Training fraction:  0.3\n",
      "Micro F1 score:  0.14246048697137975\n",
      "Macro F1 score:  0.11395986359930799\n",
      "-------------------------------------------------\n",
      "sample y_train: [0. 0. 0. 0. 0. 1. 0. 0. 0. 0. 0. 0. 0. 0. 0. 0. 0. 0. 0. 0. 0. 0. 0. 0.\n",
      " 0. 0. 0. 0. 0. 0. 0. 0. 0. 0. 0. 0. 0. 0. 0. 0. 0. 0. 0. 0. 0. 0. 0. 0.\n",
      " 0. 0.]\n",
      "Training fraction:  0.4\n",
      "Micro F1 score:  0.14982664685487865\n",
      "Macro F1 score:  0.12358960091332812\n",
      "-------------------------------------------------\n",
      "sample y_train: [0. 0. 0. 0. 0. 1. 0. 0. 0. 0. 0. 0. 0. 0. 0. 0. 0. 0. 0. 0. 0. 0. 0. 0.\n",
      " 0. 0. 0. 0. 0. 0. 0. 0. 0. 0. 0. 0. 0. 0. 0. 0. 0. 0. 0. 0. 0. 0. 0. 0.\n",
      " 0. 0.]\n",
      "Training fraction:  0.5\n",
      "Micro F1 score:  0.162839248434238\n",
      "Macro F1 score:  0.1350847824324528\n",
      "-------------------------------------------------\n",
      "sample y_train: [0. 0. 0. 0. 0. 1. 0. 0. 0. 0. 0. 0. 0. 0. 0. 0. 0. 0. 0. 0. 0. 0. 0. 0.\n",
      " 0. 0. 0. 0. 0. 0. 0. 0. 0. 0. 0. 0. 0. 0. 0. 0. 0. 0. 0. 0. 0. 0. 0. 0.\n",
      " 0. 0.]\n",
      "Training fraction:  0.6\n",
      "Micro F1 score:  0.16346153846153846\n",
      "Macro F1 score:  0.13211640036166494\n",
      "-------------------------------------------------\n",
      "sample y_train: [0. 0. 0. 0. 0. 1. 0. 0. 0. 0. 0. 0. 0. 0. 0. 0. 0. 0. 0. 0. 0. 0. 0. 0.\n",
      " 0. 0. 0. 0. 0. 0. 0. 0. 0. 0. 0. 0. 0. 0. 0. 0. 0. 0. 0. 0. 0. 0. 0. 0.\n",
      " 0. 0.]\n",
      "Training fraction:  0.7\n",
      "Micro F1 score:  0.16837983357807146\n",
      "Macro F1 score:  0.13768727082643273\n",
      "-------------------------------------------------\n",
      "sample y_train: [0. 0. 0. 0. 0. 1. 0. 0. 0. 0. 0. 0. 0. 0. 0. 0. 0. 0. 0. 0. 0. 0. 0. 0.\n",
      " 0. 0. 0. 0. 0. 0. 0. 0. 0. 0. 0. 0. 0. 0. 0. 0. 0. 0. 0. 0. 0. 0. 0. 0.\n",
      " 0. 0.]\n",
      "Training fraction:  0.8\n",
      "Micro F1 score:  0.16715542521994134\n",
      "Macro F1 score:  0.1328106578158924\n",
      "-------------------------------------------------\n",
      "sample y_train: [0. 0. 0. 0. 0. 1. 0. 0. 0. 0. 0. 0. 0. 0. 0. 0. 0. 0. 0. 0. 0. 0. 0. 0.\n",
      " 0. 0. 0. 0. 0. 0. 0. 0. 0. 0. 0. 0. 0. 0. 0. 0. 0. 0. 0. 0. 0. 0. 0. 0.\n",
      " 0. 0.]\n",
      "Training fraction:  0.9\n",
      "Micro F1 score:  0.17893217893217897\n",
      "Macro F1 score:  0.14462457031522877\n",
      "-------------------------------------------------\n"
     ]
    }
   ],
   "source": [
    "training_fraction = [0.1,0.2, 0.3, 0.4, 0.5,0.6, 0.7,0.8, 0.9]\n",
    "dataset_size = labels_one_hot.shape[0]\n",
    "embedding_dim = 128\n",
    "\n",
    "micro_f1_scores = []\n",
    "macro_f1_scores = []\n",
    "\n",
    "# loop through the training fractions and see how micro and macro F1 scores change -> autocompleted by copilot\n",
    "for fraction in training_fraction:\n",
    "    # Step 3: Shuffle the dataset\n",
    "    np.random.seed(0)\n",
    "    indices = np.arange(dataset_size)\n",
    "    np.random.shuffle(indices)\n",
    "\n",
    "    # Step 4: Obtain the training and testing indices\n",
    "    training_size = int(dataset_size * fraction)\n",
    "    test_size = dataset_size - training_size\n",
    "    training_indices = indices[:training_size]\n",
    "    testing_indices = indices[training_size:]\n",
    "\n",
    "    # Step 4.1: Initialize empty matrices for X_train and X_test\n",
    "    X_train = np.zeros((training_size, embedding_dim))  # 'train_size' is the size of our training set\n",
    "    X_test = np.zeros((test_size, embedding_dim))    # 'test_size' is the size of our test set\n",
    "\n",
    "        # We need to populate 'train_indices' and 'test_indices' based on our train/test split\n",
    "\n",
    "    # Populate X_train with embeddings for train set nodes\n",
    "    for i, node_index in enumerate(training_indices):\n",
    "        if str(node_index) in model:\n",
    "            X_train[i] = model[str(node_index)]\n",
    "\n",
    "    # Populate X_test with embeddings for test set nodes\n",
    "    for i, node_index in enumerate(testing_indices):\n",
    "        if str(node_index) in model:\n",
    "            X_test[i] = model[str(node_index)]\n",
    "\n",
    "    # Step 4.2: Obtain the training and testing labels\n",
    "    y_train = labels_one_hot[training_indices]\n",
    "    y_test = labels_one_hot[testing_indices]\n",
    "\n",
    "    print(\"sample y_train:\",y_train[0])\n",
    "    # Step 5: Change the labels to a list of labels for OnevsRestClassifier\n",
    "    train_labels = []\n",
    "    test_labels = []\n",
    "    for i in range(y_train.shape[0]):\n",
    "        train_labels.append(np.where(y_train[i] == 1)[0].tolist())\n",
    "    for i in range(y_test.shape[0]):\n",
    "        test_labels.append(np.where(y_test[i] == 1)[0].tolist())\n",
    "\n",
    "    # Step 6: Train the classifier\n",
    "    classifier = TopKRanker(LogisticRegression())\n",
    "    # classifier.fit(X_train, train_labels)\n",
    "    classifier.fit(X_train, y_train)\n",
    "\n",
    "    # Step 7: Obtain the predictions\n",
    "    predictions = classifier.predict(X_test, top_k_list=[len(l) for l in test_labels])\n",
    "\n",
    "    # Step 8: Calculate the micro and macro F1 scores\n",
    "    mlb = MultiLabelBinarizer(classes=np.arange(50))\n",
    "    binary_predictions = mlb.fit_transform(predictions)\n",
    "    micro_f1 = f1_score(y_test, binary_predictions, average='micro')\n",
    "    macro_f1 = f1_score(y_test, binary_predictions, average='macro')\n",
    "\n",
    "    micro_f1_scores.append(micro_f1)\n",
    "    macro_f1_scores.append(macro_f1)\n",
    "\n",
    "    print(\"Training fraction: \", fraction)\n",
    "    print(\"Micro F1 score: \", micro_f1)\n",
    "    print(\"Macro F1 score: \", macro_f1)\n",
    "    print(\"-------------------------------------------------\")\n",
    "    "
   ]
  },
  {
   "cell_type": "code",
   "execution_count": 28,
   "metadata": {},
   "outputs": [
    {
     "data": {
      "text/plain": [
       "Text(0, 0.5, 'F1 score')"
      ]
     },
     "execution_count": 28,
     "metadata": {},
     "output_type": "execute_result"
    },
    {
     "data": {
      "image/png": "[encoded data removed]",
      "text/plain": [
       "<Figure size 640x480 with 1 Axes>"
      ]
     },
     "metadata": {},
     "output_type": "display_data"
    }
   ],
   "source": [
    "# plot the micro and macro f1 scores against training fraction\n",
    "plt.plot(training_fraction, micro_f1_scores, label='micro f1')\n",
    "plt.xlabel('Training fraction')\n",
    "plt.ylabel('F1 score')"
   ]
  },
  {
   "cell_type": "code",
   "execution_count": 29,
   "metadata": {},
   "outputs": [
    {
     "data": {
      "text/plain": [
       "Text(0, 0.5, 'F1 score')"
      ]
     },
     "execution_count": 29,
     "metadata": {},
     "output_type": "execute_result"
    },
    {
     "data": {
      "image/png": "[encoded data removed]",
      "text/plain": [
       "<Figure size 640x480 with 1 Axes>"
      ]
     },
     "metadata": {},
     "output_type": "display_data"
    }
   ],
   "source": [
    "# plot the micro and macro f1 scores against training fraction\n",
    "plt.plot(training_fraction, macro_f1_scores, label='macro f1')\n",
    "plt.xlabel('Training fraction')\n",
    "plt.ylabel('F1 score')"
   ]
  }
 ],
 "metadata": {
  "kernelspec": {
   "display_name": "ML",
   "language": "python",
   "name": "python3"
  },
  "language_info": {
   "codemirror_mode": {
    "name": "ipython",
    "version": 3
   },
   "file_extension": ".py",
   "mimetype": "text/x-python",
   "name": "python",
   "nbconvert_exporter": "python",
   "pygments_lexer": "ipython3",
   "version": "3.11.4"
  }
 },
 "nbformat": 4,
 "nbformat_minor": 2
}
