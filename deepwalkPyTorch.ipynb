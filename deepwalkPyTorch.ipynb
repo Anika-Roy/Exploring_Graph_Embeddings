{
 "cells": [
  {
   "cell_type": "code",
   "execution_count": 1,
   "metadata": {},
   "outputs": [],
   "source": [
    "import torch\n",
    "import matplotlib.pyplot as plt\n",
    "import numpy as np"
   ]
  },
  {
   "cell_type": "markdown",
   "metadata": {},
   "source": [
    "# Making a single hidden layer neural network for `SkipGram`"
   ]
  },
  {
   "cell_type": "code",
   "execution_count": null,
   "metadata": {},
   "outputs": [],
   "source": [
    "class DeepWalk(torch.nn.module):\n",
    "        def __init__(self, adj_mat : 'list[list[int]]', feature_dimension : 'int'):\n",
    "                super(DeepWalk, self).__init__()\n",
    "                \n",
    "                # Get the number of neurons in the input and output layer\n",
    "                input_layer_size = int(len(adj_mat))\n",
    "                output_layer_size = int(len(adj_mat))\n",
    "\n",
    "                # Get the number of neurons in the hidden layer\n",
    "                hidden_layer_size = feature_dimension\n",
    "\n",
    "                self.linear_one = torch.nn.Linear(input_layer_size, hidden_layer_size)\n",
    "                self.linear_two = torch.nn.Linear(hidden_layer_size, output_layer_size)\n",
    "\n",
    "        def forward(self, x):\n",
    "                self.layer_in = self.linear_one(x)\n",
    "                # No activation\n",
    "                self.layer_out = self.linear_two(self.layer_in)\n",
    "                \n",
    "                # "
   ]
  }
 ],
 "metadata": {
  "kernelspec": {
   "display_name": "Python 3",
   "language": "python",
   "name": "python3"
  },
  "language_info": {
   "codemirror_mode": {
    "name": "ipython",
    "version": 3
   },
   "file_extension": ".py",
   "mimetype": "text/x-python",
   "name": "python",
   "nbconvert_exporter": "python",
   "pygments_lexer": "ipython3",
   "version": "3.8.10"
  }
 },
 "nbformat": 4,
 "nbformat_minor": 2
}
